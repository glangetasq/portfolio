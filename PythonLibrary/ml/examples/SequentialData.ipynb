{
 "cells": [
  {
   "cell_type": "markdown",
   "metadata": {},
   "source": [
    "# Sequential Data\n",
    "\n",
    "Using the data from keras, we will implement and compare different model for text-based data using \n",
    "- Simple RNN\n",
    "- GRU Cell\n",
    "- LSTM\n",
    "- Deep RNN"
   ]
  },
  {
   "cell_type": "markdown",
   "metadata": {},
   "source": [
    "# Import"
   ]
  },
  {
   "cell_type": "code",
   "execution_count": 1,
   "metadata": {},
   "outputs": [],
   "source": [
    "import matplotlib.pyplot as plt\n",
    "import numpy as np\n",
    "import pandas as pd"
   ]
  },
  {
   "cell_type": "code",
   "execution_count": 2,
   "metadata": {},
   "outputs": [],
   "source": [
    "from tensorflow.keras.models import Sequential\n",
    "from tensorflow.keras import layers"
   ]
  },
  {
   "cell_type": "code",
   "execution_count": 3,
   "metadata": {},
   "outputs": [],
   "source": [
    "from sklearn.linear_model import LogisticRegression\n",
    "from sklearn.feature_extraction.text import CountVectorizer, TfidfVectorizer\n",
    "from sklearn.model_selection import train_test_split, cross_val_score"
   ]
  },
  {
   "cell_type": "code",
   "execution_count": 4,
   "metadata": {},
   "outputs": [],
   "source": [
    "np.random.seed(123)"
   ]
  },
  {
   "cell_type": "markdown",
   "metadata": {},
   "source": [
    "# Tools"
   ]
  },
  {
   "cell_type": "code",
   "execution_count": 22,
   "metadata": {},
   "outputs": [],
   "source": [
    "def plot_graphs(history, metric):\n",
    "    plt.plot(history.history[metric])\n",
    "    plt.plot(history.history['val_'+metric], '')\n",
    "    plt.xlabel(\"Epochs\")\n",
    "    plt.ylabel(metric)\n",
    "    plt.legend([metric, 'val_'+metric])"
   ]
  },
  {
   "cell_type": "markdown",
   "metadata": {},
   "source": [
    "# Hyperparameters"
   ]
  },
  {
   "cell_type": "code",
   "execution_count": 59,
   "metadata": {},
   "outputs": [],
   "source": [
    "class Hyperparameters:\n",
    "    pass\n",
    "\n",
    "HP = Hyperparameters()\n",
    "\n",
    "HP.websites_to_use = [\n",
    "    'imdb'\n",
    "]\n",
    "\n",
    "HP.min_df = 0\n",
    "HP.max_df = 1\n",
    "\n",
    "HP.vocab_size = 250\n",
    "HP.embedding_dim = 16\n",
    "\n",
    "HP.rnn_dim = 1\n",
    "HP.rnn_activation = 'tanh'\n",
    "\n",
    "HP.output_dim = 32\n",
    "HP.output_activation = 'relu'\n",
    "\n",
    "MAX_LENGTH = 50"
   ]
  },
  {
   "cell_type": "markdown",
   "metadata": {},
   "source": [
    "# Data"
   ]
  },
  {
   "cell_type": "code",
   "execution_count": 60,
   "metadata": {},
   "outputs": [],
   "source": [
    "PATHS = {\n",
    "    'yelp':   'Data/sentiment_analysis/yelp_labelled.txt',\n",
    "    'amazon': 'Data/sentiment_analysis/amazon_cells_labelled.txt',\n",
    "    'imdb':   'Data/sentiment_analysis/imdb_labelled.txt'\n",
    "}"
   ]
  },
  {
   "cell_type": "code",
   "execution_count": 61,
   "metadata": {},
   "outputs": [],
   "source": [
    "dataframes = []\n",
    "\n",
    "for website, path in PATHS.items():\n",
    "    if website in HP.websites_to_use:\n",
    "        df = pd.read_csv(path, names=['sentence', 'sentiment'], sep='\\t')\n",
    "        df['website'] = website\n",
    "        dataframes.append(df)\n",
    "    \n",
    "df = pd.concat(dataframes)"
   ]
  },
  {
   "cell_type": "code",
   "execution_count": 62,
   "metadata": {},
   "outputs": [
    {
     "data": {
      "text/html": [
       "<div>\n",
       "<style scoped>\n",
       "    .dataframe tbody tr th:only-of-type {\n",
       "        vertical-align: middle;\n",
       "    }\n",
       "\n",
       "    .dataframe tbody tr th {\n",
       "        vertical-align: top;\n",
       "    }\n",
       "\n",
       "    .dataframe thead th {\n",
       "        text-align: right;\n",
       "    }\n",
       "</style>\n",
       "<table border=\"1\" class=\"dataframe\">\n",
       "  <thead>\n",
       "    <tr style=\"text-align: right;\">\n",
       "      <th></th>\n",
       "      <th>sentence</th>\n",
       "      <th>sentiment</th>\n",
       "      <th>website</th>\n",
       "    </tr>\n",
       "  </thead>\n",
       "  <tbody>\n",
       "    <tr>\n",
       "      <th>0</th>\n",
       "      <td>A very, very, very slow-moving, aimless movie ...</td>\n",
       "      <td>0</td>\n",
       "      <td>imdb</td>\n",
       "    </tr>\n",
       "    <tr>\n",
       "      <th>1</th>\n",
       "      <td>Not sure who was more lost - the flat characte...</td>\n",
       "      <td>0</td>\n",
       "      <td>imdb</td>\n",
       "    </tr>\n",
       "    <tr>\n",
       "      <th>2</th>\n",
       "      <td>Attempting artiness with black &amp; white and cle...</td>\n",
       "      <td>0</td>\n",
       "      <td>imdb</td>\n",
       "    </tr>\n",
       "    <tr>\n",
       "      <th>3</th>\n",
       "      <td>Very little music or anything to speak of.</td>\n",
       "      <td>0</td>\n",
       "      <td>imdb</td>\n",
       "    </tr>\n",
       "    <tr>\n",
       "      <th>4</th>\n",
       "      <td>The best scene in the movie was when Gerardo i...</td>\n",
       "      <td>1</td>\n",
       "      <td>imdb</td>\n",
       "    </tr>\n",
       "    <tr>\n",
       "      <th>5</th>\n",
       "      <td>The rest of the movie lacks art, charm, meanin...</td>\n",
       "      <td>0</td>\n",
       "      <td>imdb</td>\n",
       "    </tr>\n",
       "    <tr>\n",
       "      <th>6</th>\n",
       "      <td>Wasted two hours.</td>\n",
       "      <td>0</td>\n",
       "      <td>imdb</td>\n",
       "    </tr>\n",
       "    <tr>\n",
       "      <th>7</th>\n",
       "      <td>Saw the movie today and thought it was a good ...</td>\n",
       "      <td>1</td>\n",
       "      <td>imdb</td>\n",
       "    </tr>\n",
       "    <tr>\n",
       "      <th>8</th>\n",
       "      <td>A bit predictable.</td>\n",
       "      <td>0</td>\n",
       "      <td>imdb</td>\n",
       "    </tr>\n",
       "    <tr>\n",
       "      <th>9</th>\n",
       "      <td>Loved the casting of Jimmy Buffet as the scien...</td>\n",
       "      <td>1</td>\n",
       "      <td>imdb</td>\n",
       "    </tr>\n",
       "  </tbody>\n",
       "</table>\n",
       "</div>"
      ],
      "text/plain": [
       "                                            sentence  sentiment website\n",
       "0  A very, very, very slow-moving, aimless movie ...          0    imdb\n",
       "1  Not sure who was more lost - the flat characte...          0    imdb\n",
       "2  Attempting artiness with black & white and cle...          0    imdb\n",
       "3       Very little music or anything to speak of.            0    imdb\n",
       "4  The best scene in the movie was when Gerardo i...          1    imdb\n",
       "5  The rest of the movie lacks art, charm, meanin...          0    imdb\n",
       "6                                Wasted two hours.            0    imdb\n",
       "7  Saw the movie today and thought it was a good ...          1    imdb\n",
       "8                               A bit predictable.            0    imdb\n",
       "9  Loved the casting of Jimmy Buffet as the scien...          1    imdb"
      ]
     },
     "execution_count": 62,
     "metadata": {},
     "output_type": "execute_result"
    }
   ],
   "source": [
    "df.head(10)"
   ]
  },
  {
   "cell_type": "markdown",
   "metadata": {},
   "source": [
    "GOAL: predict the sentiment of a sentence."
   ]
  },
  {
   "cell_type": "code",
   "execution_count": 63,
   "metadata": {},
   "outputs": [],
   "source": [
    "class Data:\n",
    "    \n",
    "    def __init__(self, X_train, X_test, y_train, y_test):\n",
    "        self.X_train = X_train\n",
    "        self.y_train = y_train\n",
    "        self.X_test = X_test\n",
    "        self.y_test = y_test"
   ]
  },
  {
   "cell_type": "code",
   "execution_count": 64,
   "metadata": {},
   "outputs": [],
   "source": [
    "RAW_DATA = Data(*train_test_split(df.sentence, df.sentiment, train_size=0.8))"
   ]
  },
  {
   "cell_type": "markdown",
   "metadata": {},
   "source": [
    "## Count Vectorizing"
   ]
  },
  {
   "cell_type": "code",
   "execution_count": 65,
   "metadata": {},
   "outputs": [
    {
     "data": {
      "text/plain": [
       "CountVectorizer(max_df=1, min_df=0)"
      ]
     },
     "execution_count": 65,
     "metadata": {},
     "output_type": "execute_result"
    }
   ],
   "source": [
    "vectorizer = CountVectorizer(min_df=HP.min_df, max_df=HP.max_df, lowercase=True)\n",
    "vectorizer.fit(RAW_DATA.X_train)"
   ]
  },
  {
   "cell_type": "code",
   "execution_count": 66,
   "metadata": {},
   "outputs": [],
   "source": [
    "count_train = vectorizer.transform(RAW_DATA.X_train)\n",
    "count_test = vectorizer.transform(RAW_DATA.X_test)\n",
    "COUNT_DATA = Data(count_train, count_test, RAW_DATA.y_train, RAW_DATA.y_test)"
   ]
  },
  {
   "cell_type": "markdown",
   "metadata": {},
   "source": [
    "## Tf-idf Vectorizing"
   ]
  },
  {
   "cell_type": "code",
   "execution_count": 67,
   "metadata": {},
   "outputs": [
    {
     "data": {
      "text/plain": [
       "TfidfVectorizer(max_df=1, min_df=0)"
      ]
     },
     "execution_count": 67,
     "metadata": {},
     "output_type": "execute_result"
    }
   ],
   "source": [
    "vectorizer = TfidfVectorizer(min_df=HP.min_df, max_df=HP.max_df, lowercase=True)\n",
    "vectorizer.fit(RAW_DATA.X_train)"
   ]
  },
  {
   "cell_type": "code",
   "execution_count": 68,
   "metadata": {},
   "outputs": [],
   "source": [
    "tfidf_train = vectorizer.transform(RAW_DATA.X_train)\n",
    "tfidf_test = vectorizer.transform(RAW_DATA.X_test)\n",
    "TFIDF_DATA = Data(tfidf_train, tfidf_test, RAW_DATA.y_train, RAW_DATA.y_test)"
   ]
  },
  {
   "cell_type": "markdown",
   "metadata": {},
   "source": [
    "# Logistic Regression\n",
    "\n",
    "Linear model to set a benchmark for more complex, volatile models"
   ]
  },
  {
   "cell_type": "markdown",
   "metadata": {},
   "source": [
    "## Count Vectorizing"
   ]
  },
  {
   "cell_type": "code",
   "execution_count": 69,
   "metadata": {},
   "outputs": [
    {
     "name": "stdout",
     "output_type": "stream",
     "text": [
      "The mean score of a Logistic Regression on cross-validation is 48.33%\n"
     ]
    }
   ],
   "source": [
    "model = LogisticRegression()\n",
    "\n",
    "scores = cross_val_score(model, COUNT_DATA.X_train, COUNT_DATA.y_train, cv=5)\n",
    "\n",
    "print(\n",
    "    f\"The mean score of a Logistic Regression on cross-validation is {100*scores.mean():.2f}%\"\n",
    ")"
   ]
  },
  {
   "cell_type": "markdown",
   "metadata": {},
   "source": [
    "## Tf-idf Vectorizing"
   ]
  },
  {
   "cell_type": "code",
   "execution_count": 70,
   "metadata": {},
   "outputs": [
    {
     "name": "stdout",
     "output_type": "stream",
     "text": [
      "The mean score of a Logistic Regression on cross-validation is 51.67%\n"
     ]
    }
   ],
   "source": [
    "model = LogisticRegression()\n",
    "\n",
    "scores = cross_val_score(model, TFIDF_DATA.X_train, TFIDF_DATA.y_train, cv=5)\n",
    "\n",
    "print(\n",
    "    f\"The mean score of a Logistic Regression on cross-validation is {100*scores.mean():.2f}%\"\n",
    ")"
   ]
  },
  {
   "cell_type": "markdown",
   "metadata": {},
   "source": [
    "# Simple RNN"
   ]
  },
  {
   "cell_type": "code",
   "execution_count": 71,
   "metadata": {},
   "outputs": [],
   "source": [
    "encoder = layers.experimental.preprocessing.TextVectorization(\n",
    "    max_tokens=HP.vocab_size\n",
    ")\n",
    "encoder.adapt(RAW_DATA.X_train.to_numpy())"
   ]
  },
  {
   "cell_type": "code",
   "execution_count": 72,
   "metadata": {},
   "outputs": [],
   "source": [
    "model = Sequential()\n",
    "\n",
    "# Encoder \n",
    "model.add(encoder)\n",
    "\n",
    "# Embedding\n",
    "model.add(\n",
    "    layers.Embedding(\n",
    "        input_dim = len(encoder.get_vocabulary()),\n",
    "        output_dim = HP.embedding_dim,\n",
    "        # Use msking to handle the variable sequence lengths\n",
    "        mask_zero = True,\n",
    "    )\n",
    ")\n",
    "\n",
    "# RNN\n",
    "model.add(\n",
    "    layers.RNN(\n",
    "        layers.SimpleRNNCell(\n",
    "            HP.rnn_dim,\n",
    "            activation = HP.rnn_activation,\n",
    "        )\n",
    "    )\n",
    ")\n",
    "\n",
    "# Dense output\n",
    "# model.add(\n",
    "#     layers.Dense(\n",
    "#         HP.output_dim,\n",
    "#         activation = HP.output_activation\n",
    "#     )\n",
    "# )\n",
    "\n",
    "# model.add(\n",
    "#     layers.Dense(1)\n",
    "# )\n",
    "\n",
    "model.compile(\n",
    "    loss = 'binary_crossentropy',\n",
    "    optimizer = 'adam',\n",
    "    metrics = ['accuracy']\n",
    ")"
   ]
  },
  {
   "cell_type": "code",
   "execution_count": 73,
   "metadata": {},
   "outputs": [
    {
     "name": "stdout",
     "output_type": "stream",
     "text": [
      "Epoch 1/25\n",
      "15/15 [==============================] - 4s 141ms/step - loss: 2.4556 - accuracy: 0.4853 - val_loss: 0.7809 - val_accuracy: 0.5250\n",
      "Epoch 2/25\n",
      "15/15 [==============================] - 2s 144ms/step - loss: 0.6935 - accuracy: 0.5754 - val_loss: 0.7161 - val_accuracy: 0.5417\n",
      "Epoch 3/25\n",
      "15/15 [==============================] - 2s 156ms/step - loss: 0.6678 - accuracy: 0.6269 - val_loss: 0.6982 - val_accuracy: 0.5917\n",
      "Epoch 4/25\n",
      "15/15 [==============================] - 1s 73ms/step - loss: 0.6405 - accuracy: 0.6343 - val_loss: 0.6910 - val_accuracy: 0.5917\n",
      "Epoch 5/25\n",
      "15/15 [==============================] - 1s 92ms/step - loss: 0.6038 - accuracy: 0.6847 - val_loss: 0.6890 - val_accuracy: 0.5917\n",
      "Epoch 6/25\n",
      "15/15 [==============================] - 1s 95ms/step - loss: 0.5873 - accuracy: 0.6959 - val_loss: 0.6969 - val_accuracy: 0.6250\n",
      "Epoch 7/25\n",
      "15/15 [==============================] - 1s 53ms/step - loss: 0.5717 - accuracy: 0.7061 - val_loss: 0.7995 - val_accuracy: 0.6083\n",
      "Epoch 8/25\n",
      "15/15 [==============================] - 1s 95ms/step - loss: 0.5584 - accuracy: 0.7135 - val_loss: 0.8034 - val_accuracy: 0.5833\n",
      "Epoch 9/25\n",
      "15/15 [==============================] - 1s 99ms/step - loss: 0.5214 - accuracy: 0.7424 - val_loss: 0.8231 - val_accuracy: 0.5833\n",
      "Epoch 10/25\n",
      "15/15 [==============================] - 1s 89ms/step - loss: 0.5140 - accuracy: 0.7336 - val_loss: 0.8424 - val_accuracy: 0.6000\n",
      "Epoch 11/25\n",
      "15/15 [==============================] - 1s 45ms/step - loss: 0.5006 - accuracy: 0.7598 - val_loss: 0.9772 - val_accuracy: 0.5917\n",
      "Epoch 12/25\n",
      "15/15 [==============================] - 1s 93ms/step - loss: 0.4644 - accuracy: 0.7485 - val_loss: 1.0432 - val_accuracy: 0.6333\n",
      "Epoch 13/25\n",
      "15/15 [==============================] - 1s 89ms/step - loss: 0.4608 - accuracy: 0.7896 - val_loss: 1.1490 - val_accuracy: 0.6250\n",
      "Epoch 14/25\n",
      "15/15 [==============================] - 1s 88ms/step - loss: 0.4350 - accuracy: 0.7913 - val_loss: 1.1504 - val_accuracy: 0.6083\n",
      "Epoch 15/25\n",
      "15/15 [==============================] - 1s 89ms/step - loss: 0.4113 - accuracy: 0.8216 - val_loss: 1.2428 - val_accuracy: 0.6250\n",
      "Epoch 16/25\n",
      "15/15 [==============================] - 1s 88ms/step - loss: 0.4195 - accuracy: 0.8178 - val_loss: 1.2632 - val_accuracy: 0.6250\n",
      "Epoch 17/25\n",
      "15/15 [==============================] - 1s 50ms/step - loss: 0.4268 - accuracy: 0.8244 - val_loss: 1.2551 - val_accuracy: 0.6250\n",
      "Epoch 18/25\n",
      "15/15 [==============================] - 1s 89ms/step - loss: 0.3833 - accuracy: 0.8429 - val_loss: 1.5417 - val_accuracy: 0.6417\n",
      "Epoch 19/25\n",
      "15/15 [==============================] - 1s 92ms/step - loss: 0.4036 - accuracy: 0.8294 - val_loss: 1.4802 - val_accuracy: 0.6417\n",
      "Epoch 20/25\n",
      "15/15 [==============================] - 1s 104ms/step - loss: 0.3700 - accuracy: 0.8497 - val_loss: 1.6409 - val_accuracy: 0.6417\n",
      "Epoch 21/25\n",
      "15/15 [==============================] - 1s 94ms/step - loss: 0.3219 - accuracy: 0.8839 - val_loss: 1.4454 - val_accuracy: 0.6417\n",
      "Epoch 22/25\n",
      "15/15 [==============================] - 1s 93ms/step - loss: 0.3306 - accuracy: 0.8752 - val_loss: 1.5538 - val_accuracy: 0.6500\n",
      "Epoch 23/25\n",
      "15/15 [==============================] - 1s 68ms/step - loss: 0.3564 - accuracy: 0.8588 - val_loss: 1.5481 - val_accuracy: 0.6333\n",
      "Epoch 24/25\n",
      "15/15 [==============================] - 1s 98ms/step - loss: 0.3536 - accuracy: 0.8732 - val_loss: 1.5429 - val_accuracy: 0.6333\n",
      "Epoch 25/25\n",
      "15/15 [==============================] - 2s 112ms/step - loss: 0.3307 - accuracy: 0.8718 - val_loss: 1.5405 - val_accuracy: 0.6250\n"
     ]
    }
   ],
   "source": [
    "history = model.fit(\n",
    "    RAW_DATA.X_train,\n",
    "    RAW_DATA.y_train,\n",
    "    epochs = 25,\n",
    "    validation_split = 0.2,\n",
    ")"
   ]
  },
  {
   "cell_type": "code",
   "execution_count": 74,
   "metadata": {},
   "outputs": [
    {
     "name": "stdout",
     "output_type": "stream",
     "text": [
      "5/5 [==============================] - 0s 12ms/step - loss: 1.5134 - accuracy: 0.6867\n",
      "Test Loss: 1.5134055614471436\n",
      "Test Accuracy: 0.6866666674613953\n"
     ]
    }
   ],
   "source": [
    "test_loss, test_acc = model.evaluate(RAW_DATA.X_test, RAW_DATA.y_test)\n",
    "\n",
    "print('Test Loss: {}'.format(test_loss))\n",
    "print('Test Accuracy: {}'.format(test_acc))"
   ]
  },
  {
   "cell_type": "code",
   "execution_count": 75,
   "metadata": {},
   "outputs": [
    {
     "data": {
      "text/plain": [
       "(0.0, 1.7065656945109366)"
      ]
     },
     "execution_count": 75,
     "metadata": {},
     "output_type": "execute_result"
    },
    {
     "data": {
      "image/png": "[encoded data removed]",
      "text/plain": [
       "<Figure size 1152x576 with 2 Axes>"
      ]
     },
     "metadata": {
      "needs_background": "light"
     },
     "output_type": "display_data"
    }
   ],
   "source": [
    "plt.figure(figsize=(16,8))\n",
    "plt.subplot(1,2,1)\n",
    "plot_graphs(history, 'accuracy')\n",
    "plt.ylim(None,1)\n",
    "plt.subplot(1,2,2)\n",
    "plot_graphs(history, 'loss')\n",
    "plt.ylim(0,None)"
   ]
  },
  {
   "cell_type": "code",
   "execution_count": 76,
   "metadata": {},
   "outputs": [
    {
     "name": "stdout",
     "output_type": "stream",
     "text": [
      "Model: \"sequential_4\"\n",
      "_________________________________________________________________\n",
      "Layer (type)                 Output Shape              Param #   \n",
      "=================================================================\n",
      "text_vectorization_3 (TextVe (None, None)              0         \n",
      "_________________________________________________________________\n",
      "embedding_4 (Embedding)      (None, None, 16)          4000      \n",
      "_________________________________________________________________\n",
      "rnn_3 (RNN)                  (None, 1)                 18        \n",
      "=================================================================\n",
      "Total params: 4,018\n",
      "Trainable params: 4,018\n",
      "Non-trainable params: 0\n",
      "_________________________________________________________________\n"
     ]
    }
   ],
   "source": [
    "model.summary()"
   ]
  },
  {
   "cell_type": "markdown",
   "metadata": {},
   "source": [
    "# LSTM"
   ]
  },
  {
   "cell_type": "code",
   "execution_count": 77,
   "metadata": {},
   "outputs": [],
   "source": [
    "encoder = layers.experimental.preprocessing.TextVectorization(\n",
    "    max_tokens=HP.vocab_size\n",
    ")\n",
    "encoder.adapt(RAW_DATA.X_train.to_numpy())"
   ]
  },
  {
   "cell_type": "code",
   "execution_count": 78,
   "metadata": {},
   "outputs": [],
   "source": [
    "model = Sequential()\n",
    "\n",
    "# Encoder \n",
    "model.add(encoder)\n",
    "\n",
    "# Embedding\n",
    "model.add(\n",
    "    layers.Embedding(\n",
    "        input_dim = len(encoder.get_vocabulary()),\n",
    "        output_dim = HP.embedding_dim,\n",
    "        # Use msking to handle the variable sequence lengths\n",
    "        mask_zero = True,\n",
    "    )\n",
    ")\n",
    "\n",
    "# RNN\n",
    "model.add(\n",
    "    layers.RNN(\n",
    "        layers.LSTMCell(\n",
    "            HP.rnn_dim,\n",
    "            activation = HP.rnn_activation,\n",
    "        )\n",
    "    )\n",
    ")\n",
    "\n",
    "# Dense output\n",
    "# model.add(\n",
    "#     layers.Dense(\n",
    "#         HP.output_dim,\n",
    "#         activation = HP.output_activation\n",
    "#     )\n",
    "# )\n",
    "\n",
    "# model.add(\n",
    "#     layers.Dense(1)\n",
    "# )\n",
    "\n",
    "model.compile(\n",
    "    loss = 'binary_crossentropy',\n",
    "    optimizer = 'adam',\n",
    "    metrics = ['accuracy']\n",
    ")"
   ]
  },
  {
   "cell_type": "code",
   "execution_count": 83,
   "metadata": {},
   "outputs": [
    {
     "name": "stdout",
     "output_type": "stream",
     "text": [
      "Epoch 1/50\n",
      "15/15 [==============================] - 2s 69ms/step - loss: 0.5602 - accuracy: 0.7197 - val_loss: 0.6670 - val_accuracy: 0.6500\n",
      "Epoch 2/50\n",
      "15/15 [==============================] - 2s 111ms/step - loss: 0.5522 - accuracy: 0.7197 - val_loss: 0.6697 - val_accuracy: 0.6500\n",
      "Epoch 3/50\n",
      "15/15 [==============================] - 2s 82ms/step - loss: 0.5445 - accuracy: 0.7301 - val_loss: 0.7640 - val_accuracy: 0.6417\n",
      "Epoch 4/50\n",
      "15/15 [==============================] - 2s 126ms/step - loss: 0.5371 - accuracy: 0.7406 - val_loss: 0.7627 - val_accuracy: 0.6417\n",
      "Epoch 5/50\n",
      "15/15 [==============================] - 2s 118ms/step - loss: 0.5296 - accuracy: 0.7448 - val_loss: 0.7633 - val_accuracy: 0.6417\n",
      "Epoch 6/50\n",
      "15/15 [==============================] - 2s 121ms/step - loss: 0.5220 - accuracy: 0.7469 - val_loss: 0.7638 - val_accuracy: 0.6333\n",
      "Epoch 7/50\n",
      "15/15 [==============================] - 2s 122ms/step - loss: 0.5147 - accuracy: 0.7490 - val_loss: 0.7679 - val_accuracy: 0.6250\n",
      "Epoch 8/50\n",
      "15/15 [==============================] - 2s 122ms/step - loss: 0.5076 - accuracy: 0.7531 - val_loss: 0.7783 - val_accuracy: 0.6167\n",
      "Epoch 9/50\n",
      "15/15 [==============================] - 2s 125ms/step - loss: 0.4998 - accuracy: 0.7573 - val_loss: 0.8555 - val_accuracy: 0.6083\n",
      "Epoch 10/50\n",
      "15/15 [==============================] - 2s 126ms/step - loss: 0.4923 - accuracy: 0.7636 - val_loss: 0.8556 - val_accuracy: 0.6083\n",
      "Epoch 11/50\n",
      "15/15 [==============================] - 2s 126ms/step - loss: 0.4848 - accuracy: 0.7782 - val_loss: 0.8574 - val_accuracy: 0.6083\n",
      "Epoch 12/50\n",
      "15/15 [==============================] - 2s 129ms/step - loss: 0.4769 - accuracy: 0.7824 - val_loss: 0.8590 - val_accuracy: 0.6083\n",
      "Epoch 13/50\n",
      "15/15 [==============================] - 2s 131ms/step - loss: 0.4694 - accuracy: 0.7887 - val_loss: 0.8602 - val_accuracy: 0.6167\n",
      "Epoch 14/50\n",
      "15/15 [==============================] - 2s 153ms/step - loss: 0.4620 - accuracy: 0.7950 - val_loss: 0.8647 - val_accuracy: 0.6083\n",
      "Epoch 15/50\n",
      "15/15 [==============================] - 4s 256ms/step - loss: 0.4544 - accuracy: 0.8013 - val_loss: 0.8718 - val_accuracy: 0.6000\n",
      "Epoch 16/50\n",
      "15/15 [==============================] - 2s 145ms/step - loss: 0.4468 - accuracy: 0.8054 - val_loss: 0.8804 - val_accuracy: 0.6083\n",
      "Epoch 17/50\n",
      "15/15 [==============================] - 2s 146ms/step - loss: 0.4396 - accuracy: 0.8096 - val_loss: 0.8929 - val_accuracy: 0.6000\n",
      "Epoch 18/50\n",
      "15/15 [==============================] - 2s 139ms/step - loss: 0.4317 - accuracy: 0.8117 - val_loss: 0.9153 - val_accuracy: 0.6000\n",
      "Epoch 19/50\n",
      "15/15 [==============================] - 2s 109ms/step - loss: 0.4237 - accuracy: 0.8159 - val_loss: 1.0885 - val_accuracy: 0.6167\n",
      "Epoch 20/50\n",
      "15/15 [==============================] - 2s 75ms/step - loss: 0.4162 - accuracy: 0.8201 - val_loss: 1.1884 - val_accuracy: 0.6250\n",
      "Epoch 21/50\n",
      "15/15 [==============================] - 2s 143ms/step - loss: 0.4084 - accuracy: 0.8201 - val_loss: 1.1901 - val_accuracy: 0.6250\n",
      "Epoch 22/50\n",
      "15/15 [==============================] - 2s 142ms/step - loss: 0.4002 - accuracy: 0.8222 - val_loss: 1.1914 - val_accuracy: 0.6250\n",
      "Epoch 23/50\n",
      "15/15 [==============================] - 2s 148ms/step - loss: 0.3925 - accuracy: 0.8264 - val_loss: 1.1937 - val_accuracy: 0.6333\n",
      "Epoch 24/50\n",
      "15/15 [==============================] - 2s 142ms/step - loss: 0.3852 - accuracy: 0.8368 - val_loss: 1.2102 - val_accuracy: 0.6417\n",
      "Epoch 25/50\n",
      "15/15 [==============================] - 2s 139ms/step - loss: 0.3766 - accuracy: 0.8431 - val_loss: 1.3034 - val_accuracy: 0.6500\n",
      "Epoch 26/50\n",
      "15/15 [==============================] - 2s 147ms/step - loss: 0.3695 - accuracy: 0.8410 - val_loss: 1.3060 - val_accuracy: 0.6583\n",
      "Epoch 27/50\n",
      "15/15 [==============================] - 2s 147ms/step - loss: 0.3622 - accuracy: 0.8431 - val_loss: 1.3111 - val_accuracy: 0.6667\n",
      "Epoch 28/50\n",
      "15/15 [==============================] - 2s 147ms/step - loss: 0.3547 - accuracy: 0.8452 - val_loss: 1.3212 - val_accuracy: 0.6667\n",
      "Epoch 29/50\n",
      "15/15 [==============================] - 2s 106ms/step - loss: 0.3471 - accuracy: 0.8515 - val_loss: 1.2584 - val_accuracy: 0.6667\n",
      "Epoch 30/50\n",
      "15/15 [==============================] - 2s 148ms/step - loss: 0.3398 - accuracy: 0.8577 - val_loss: 1.3468 - val_accuracy: 0.6583\n",
      "Epoch 31/50\n",
      "15/15 [==============================] - 2s 144ms/step - loss: 0.3332 - accuracy: 0.8640 - val_loss: 1.4282 - val_accuracy: 0.6667\n",
      "Epoch 32/50\n",
      "15/15 [==============================] - 2s 108ms/step - loss: 0.3265 - accuracy: 0.8682 - val_loss: 1.4251 - val_accuracy: 0.6667\n",
      "Epoch 33/50\n",
      "15/15 [==============================] - 2s 80ms/step - loss: 0.3208 - accuracy: 0.8703 - val_loss: 1.4234 - val_accuracy: 0.6583\n",
      "Epoch 34/50\n",
      "15/15 [==============================] - 2s 108ms/step - loss: 0.3149 - accuracy: 0.8745 - val_loss: 1.4226 - val_accuracy: 0.6583\n",
      "Epoch 35/50\n",
      "15/15 [==============================] - 2s 146ms/step - loss: 0.3097 - accuracy: 0.8745 - val_loss: 1.4255 - val_accuracy: 0.6583\n",
      "Epoch 36/50\n",
      "15/15 [==============================] - 2s 152ms/step - loss: 0.3048 - accuracy: 0.8808 - val_loss: 1.4303 - val_accuracy: 0.6500\n",
      "Epoch 37/50\n",
      "15/15 [==============================] - 2s 146ms/step - loss: 0.2998 - accuracy: 0.8828 - val_loss: 1.5225 - val_accuracy: 0.6500\n",
      "Epoch 38/50\n",
      "15/15 [==============================] - 2s 145ms/step - loss: 0.2958 - accuracy: 0.8870 - val_loss: 1.5244 - val_accuracy: 0.6500\n",
      "Epoch 39/50\n",
      "15/15 [==============================] - 2s 142ms/step - loss: 0.2919 - accuracy: 0.8891 - val_loss: 1.5211 - val_accuracy: 0.6500\n",
      "Epoch 40/50\n",
      "15/15 [==============================] - 2s 143ms/step - loss: 0.2879 - accuracy: 0.8933 - val_loss: 1.5230 - val_accuracy: 0.6583\n",
      "Epoch 41/50\n",
      "15/15 [==============================] - 2s 157ms/step - loss: 0.2841 - accuracy: 0.8933 - val_loss: 1.5237 - val_accuracy: 0.6500\n",
      "Epoch 42/50\n",
      "15/15 [==============================] - 2s 148ms/step - loss: 0.2805 - accuracy: 0.8954 - val_loss: 1.5280 - val_accuracy: 0.6583\n",
      "Epoch 43/50\n",
      "15/15 [==============================] - 2s 142ms/step - loss: 0.2766 - accuracy: 0.8954 - val_loss: 1.5253 - val_accuracy: 0.6667\n",
      "Epoch 44/50\n",
      "15/15 [==============================] - 2s 153ms/step - loss: 0.2708 - accuracy: 0.8996 - val_loss: 1.5216 - val_accuracy: 0.6750\n",
      "Epoch 45/50\n",
      "15/15 [==============================] - 2s 148ms/step - loss: 0.2678 - accuracy: 0.9038 - val_loss: 1.5248 - val_accuracy: 0.6750\n",
      "Epoch 46/50\n",
      "15/15 [==============================] - 2s 81ms/step - loss: 0.2645 - accuracy: 0.9017 - val_loss: 1.5262 - val_accuracy: 0.6750\n",
      "Epoch 47/50\n",
      "15/15 [==============================] - 2s 150ms/step - loss: 0.2621 - accuracy: 0.9059 - val_loss: 1.5278 - val_accuracy: 0.6750\n",
      "Epoch 48/50\n",
      "15/15 [==============================] - 2s 149ms/step - loss: 0.2599 - accuracy: 0.9100 - val_loss: 1.5366 - val_accuracy: 0.6667\n",
      "Epoch 49/50\n",
      "15/15 [==============================] - 2s 149ms/step - loss: 0.2567 - accuracy: 0.9079 - val_loss: 1.5381 - val_accuracy: 0.6833\n",
      "Epoch 50/50\n",
      "15/15 [==============================] - 2s 150ms/step - loss: 0.2547 - accuracy: 0.9142 - val_loss: 1.6305 - val_accuracy: 0.6833\n"
     ]
    }
   ],
   "source": [
    "history = model.fit(\n",
    "    RAW_DATA.X_train,\n",
    "    RAW_DATA.y_train,\n",
    "    epochs = 50,\n",
    "    validation_split = 0.2,\n",
    ")"
   ]
  },
  {
   "cell_type": "code",
   "execution_count": 84,
   "metadata": {},
   "outputs": [
    {
     "name": "stdout",
     "output_type": "stream",
     "text": [
      "5/5 [==============================] - 0s 36ms/step - loss: 1.5936 - accuracy: 0.6333\n",
      "Test Loss: 1.5936352014541626\n",
      "Test Accuracy: 0.6333333253860474\n"
     ]
    }
   ],
   "source": [
    "test_loss, test_acc = model.evaluate(RAW_DATA.X_test, RAW_DATA.y_test)\n",
    "\n",
    "print('Test Loss: {}'.format(test_loss))\n",
    "print('Test Accuracy: {}'.format(test_acc))"
   ]
  },
  {
   "cell_type": "code",
   "execution_count": 85,
   "metadata": {},
   "outputs": [
    {
     "data": {
      "text/plain": [
       "(0.0, 1.6993053048849105)"
      ]
     },
     "execution_count": 85,
     "metadata": {},
     "output_type": "execute_result"
    },
    {
     "data": {
      "image/png": "[encoded data removed]",
      "text/plain": [
       "<Figure size 1152x576 with 2 Axes>"
      ]
     },
     "metadata": {
      "needs_background": "light"
     },
     "output_type": "display_data"
    }
   ],
   "source": [
    "plt.figure(figsize=(16,8))\n",
    "plt.subplot(1,2,1)\n",
    "plot_graphs(history, 'accuracy')\n",
    "plt.ylim(None,1)\n",
    "plt.subplot(1,2,2)\n",
    "plot_graphs(history, 'loss')\n",
    "plt.ylim(0,None)"
   ]
  },
  {
   "cell_type": "code",
   "execution_count": 82,
   "metadata": {},
   "outputs": [
    {
     "name": "stdout",
     "output_type": "stream",
     "text": [
      "Model: \"sequential_5\"\n",
      "_________________________________________________________________\n",
      "Layer (type)                 Output Shape              Param #   \n",
      "=================================================================\n",
      "text_vectorization_4 (TextVe (None, None)              0         \n",
      "_________________________________________________________________\n",
      "embedding_5 (Embedding)      (None, None, 16)          4000      \n",
      "_________________________________________________________________\n",
      "rnn_4 (RNN)                  (None, 1)                 72        \n",
      "=================================================================\n",
      "Total params: 4,072\n",
      "Trainable params: 4,072\n",
      "Non-trainable params: 0\n",
      "_________________________________________________________________\n"
     ]
    }
   ],
   "source": [
    "model.summary()"
   ]
  },
  {
   "cell_type": "code",
   "execution_count": null,
   "metadata": {},
   "outputs": [],
   "source": []
  }
 ],
 "metadata": {
  "kernelspec": {
   "display_name": "ML Python 3.7.3",
   "language": "python",
   "name": "ml-3.7.3"
  },
  "language_info": {
   "codemirror_mode": {
    "name": "ipython",
    "version": 3
   },
   "file_extension": ".py",
   "mimetype": "text/x-python",
   "name": "python",
   "nbconvert_exporter": "python",
   "pygments_lexer": "ipython3",
   "version": "3.7.3"
  }
 },
 "nbformat": 4,
 "nbformat_minor": 4
}
