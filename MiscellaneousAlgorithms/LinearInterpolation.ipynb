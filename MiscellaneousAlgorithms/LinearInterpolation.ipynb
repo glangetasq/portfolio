{
 "cells": [
  {
   "cell_type": "markdown",
   "metadata": {},
   "source": [
    "# Linear Intepolation\n",
    "\n",
    "Based on Two Sigma Hacker Rank test\n",
    "\n",
    "Rules:\n",
    "- If xLow < x < xAb then normal interpolation\n",
    "- If there's a x tie: minimum of y on the left, maximum of y on the right\n",
    "- If x is outside the range of \\[ min(xKnots), max(xKnots) \\] use extrapolation "
   ]
  },
  {
   "cell_type": "markdown",
   "metadata": {},
   "source": [
    "## Imports"
   ]
  },
  {
   "cell_type": "code",
   "execution_count": 5,
   "metadata": {},
   "outputs": [],
   "source": [
    "import matplotlib.pyplot as plt\n",
    "import numpy as np\n",
    "import pandas as pd"
   ]
  },
  {
   "cell_type": "code",
   "execution_count": 2,
   "metadata": {},
   "outputs": [],
   "source": [
    "plt.style.use('seaborn')"
   ]
  },
  {
   "cell_type": "markdown",
   "metadata": {},
   "source": [
    "## Two Stacks Data Structure"
   ]
  },
  {
   "cell_type": "code",
   "execution_count": 31,
   "metadata": {},
   "outputs": [],
   "source": [
    "class NearestAboveStack:\n",
    "    \n",
    "    def __init__(self, t):\n",
    "        \n",
    "        self.t = t\n",
    "        self.xAb = None\n",
    "        self.yAb = None\n",
    "    \n",
    "    def add(self, px, py):\n",
    "        \n",
    "        if px < self.t:\n",
    "            return None\n",
    "        \n",
    "        if self.xAb is None and self.yAb is None:\n",
    "            self.xAb, self.yAb = px, py\n",
    "        \n",
    "        if px == self.xAb and py > self.yAb:\n",
    "            self.yAb = py\n",
    "        elif px < self.xAb:\n",
    "            self.xAb, self.yAb = px, py\n",
    "        \n",
    "        return None\n",
    "    \n",
    "    def get_point(self):\n",
    "        return self.xAb, self.yAb\n",
    "    "
   ]
  },
  {
   "cell_type": "code",
   "execution_count": 32,
   "metadata": {},
   "outputs": [],
   "source": [
    "### Testing\n",
    "stack = NearestAboveStack(2)\n",
    "\n",
    "tests = [ # inputs of add, expected results\n",
    "    ( (1, 2), (None, None) ),\n",
    "    ( (5, 2), (5, 2) ),\n",
    "    ( (4, 3), (4, 3) ),\n",
    "    ( (4, 10), (4, 10) ),\n",
    "    ( (4, 2), (4, 10) ),\n",
    "    ( (3, 1), (3, 1) ),\n",
    "]\n",
    "\n",
    "for (x, y), expectedResult in tests:\n",
    "    \n",
    "    stack.add(x, y)\n",
    "    assert( stack.get_point() == expectedResult )"
   ]
  },
  {
   "cell_type": "code",
   "execution_count": 33,
   "metadata": {},
   "outputs": [],
   "source": [
    "class NearestBelowStack:\n",
    "    \n",
    "    def __init__(self, t):\n",
    "        \n",
    "        self.t = t\n",
    "        self.xBl = None\n",
    "        self.yBl = None\n",
    "    \n",
    "    def add(self, px, py):\n",
    "        \n",
    "        if px >= self.t:\n",
    "            return None\n",
    "\n",
    "        if self.xBl is None and self.yBl is None:\n",
    "            self.xBl, self.yBl = px, py\n",
    "\n",
    "        if px == self.xBl and py < self.yBl:\n",
    "            self.yBl = py\n",
    "        elif px > self.xBl:\n",
    "            self.xBl, self.yBl = px, py\n",
    "        \n",
    "        return None\n",
    "    \n",
    "    def get_point(self):\n",
    "        return self.xBl, self.yBl\n",
    "    "
   ]
  },
  {
   "cell_type": "code",
   "execution_count": 34,
   "metadata": {},
   "outputs": [],
   "source": [
    "### Testing\n",
    "stack = NearestBelowStack(2)\n",
    "\n",
    "tests = [ # inputs of add, expected results\n",
    "    ( (5, 0), (None, None) ),\n",
    "    ( (0, 3), (0, 3) ),\n",
    "    ( (0, 2), (0, 2) ),\n",
    "    ( (0, 5), (0, 2) ),\n",
    "    ( (1, -1), (1, -1) ),\n",
    "]\n",
    "\n",
    "for (x, y), expectedResult in tests:\n",
    "    \n",
    "    stack.add(x, y)\n",
    "    assert( stack.get_point() == expectedResult )"
   ]
  },
  {
   "cell_type": "code",
   "execution_count": 35,
   "metadata": {},
   "outputs": [],
   "source": [
    "class LinearInterpolationStack:\n",
    "    \n",
    "    def __init__(self, t):\n",
    "        \n",
    "        self.t = t\n",
    "        self.below = NearestBelowStack(t)\n",
    "        self.above = NearestAboveStack(t)\n",
    "        \n",
    "    def add(self, px, py):\n",
    "        \n",
    "        self.below.add(px, py)\n",
    "        self.above.add(px, py)\n",
    "        \n",
    "    def get_below_point(self):\n",
    "        return self.below.get_point()\n",
    "        \n",
    "    def get_above_point(self):\n",
    "        return self.above.get_point()\n",
    "    \n",
    "    def interpolate(self):\n",
    "        \n",
    "        xBl, yBl = self.get_below_point()\n",
    "        xAb, yAb = self.get_above_point()\n",
    "        \n",
    "        if xBl == self.t:\n",
    "            return yBl\n",
    "        elif xAb == self.t:\n",
    "            return yAb\n",
    "        else:\n",
    "            weightBl = (self.t - xBl) / (xAb - xBl)\n",
    "            return yBl * weightBl + yAb * (1 - weightBl)\n",
    "      "
   ]
  },
  {
   "cell_type": "code",
   "execution_count": 37,
   "metadata": {},
   "outputs": [],
   "source": [
    "### Testing\n",
    "\n",
    "tests = [ # t, knots, expectedResult\n",
    "    [2, [(0, 0), (4, 4)], 2],\n",
    "    [2, [(0, 0), (2, 10)], 10],\n",
    "    [2, [(-1, -1), (0, 0), (4, 4), (6, 3)], 2],\n",
    "    [2, [(0, 0), (0, 4), (4, 4)], 2],\n",
    "    [2, [(0, 0), (4, 0), (4, 4)], 2],\n",
    "]\n",
    "\n",
    "for k, (t, knots, expectedResult) in enumerate(tests):\n",
    "    \n",
    "    stack = LinearInterpolationStack(t)\n",
    "    \n",
    "    for x, y in knots:\n",
    "        stack.add(x, y)\n",
    "    \n",
    "    assert(stack.interpolate() == expectedResult)"
   ]
  },
  {
   "cell_type": "markdown",
   "metadata": {},
   "source": [
    "# Data Structure Function"
   ]
  },
  {
   "cell_type": "code",
   "execution_count": 54,
   "metadata": {},
   "outputs": [],
   "source": [
    "def plot_linear_interpolation(xKnots, yKnots, t, stack):\n",
    "    \n",
    "    yt = stack.interpolate()\n",
    "    \n",
    "    plt.scatter(xKnots, yKnots, color='C1')\n",
    "\n",
    "    xBl, yBl = stack.get_below_point()\n",
    "    xAb, yAb = stack.get_above_point()\n",
    "    \n",
    "    plt.plot([xBl, xAb], [yBl, yAb], color='C0')\n",
    "    \n",
    "    plt.plot(t, yt, 'o', color='C2')\n",
    "    \n",
    "    plt.show()"
   ]
  },
  {
   "cell_type": "code",
   "execution_count": 55,
   "metadata": {},
   "outputs": [],
   "source": [
    "def linear_interpolation(xKnots, yKnots, t, plot=False):\n",
    "    \n",
    "    if t < min(xKnots):\n",
    "        raise NotImplementedError(\"Please implement extrapolation\")\n",
    "    elif t > max(xKnots):\n",
    "        raise NotImplementedError(\"Please implement extrapolation\")\n",
    "    else:\n",
    "        \n",
    "        stack = LinearInterpolationStack(t)\n",
    "        \n",
    "        for x, y in zip(xKnots, yKnots):\n",
    "            stack.add(x, y)\n",
    "            \n",
    "        if plot:\n",
    "            plot_linear_interpolation(xKnots, yKnots, t, stack)\n",
    "        \n",
    "        return stack.interpolate()\n",
    "    "
   ]
  },
  {
   "cell_type": "markdown",
   "metadata": {},
   "source": [
    "# Sorting Interpolation"
   ]
  },
  {
   "cell_type": "code",
   "execution_count": null,
   "metadata": {},
   "outputs": [],
   "source": []
  },
  {
   "cell_type": "code",
   "execution_count": null,
   "metadata": {},
   "outputs": [],
   "source": []
  },
  {
   "cell_type": "markdown",
   "metadata": {},
   "source": [
    "# Tests"
   ]
  },
  {
   "cell_type": "markdown",
   "metadata": {},
   "source": [
    "## Simple Linear Interpolation"
   ]
  },
  {
   "cell_type": "code",
   "execution_count": 73,
   "metadata": {},
   "outputs": [
    {
     "data": {
      "image/png": "[encoded data removed]",
      "text/plain": [
       "<Figure size 576x396 with 1 Axes>"
      ]
     },
     "metadata": {},
     "output_type": "display_data"
    }
   ],
   "source": [
    "xKnots = np.arange(-10, 11)\n",
    "yKnots = np.random.randint(-5, 5, len(xKnots))\n",
    "t = 0.5\n",
    "\n",
    "linear_interpolation(xKnots, yKnots, t, True);"
   ]
  },
  {
   "cell_type": "markdown",
   "metadata": {},
   "source": [
    "## Linear Interpolation with ties handling"
   ]
  },
  {
   "cell_type": "code",
   "execution_count": 75,
   "metadata": {},
   "outputs": [
    {
     "data": {
      "image/png": "[encoded data removed]",
      "text/plain": [
       "<Figure size 576x396 with 1 Axes>"
      ]
     },
     "metadata": {},
     "output_type": "display_data"
    }
   ],
   "source": [
    "xKnots = 2 * list(np.arange(-10, 11))\n",
    "yKnots = np.random.randint(-5, 5, len(xKnots))\n",
    "t = 0.5\n",
    "\n",
    "linear_interpolation(xKnots, yKnots, t, True);"
   ]
  }
 ],
 "metadata": {
  "kernelspec": {
   "display_name": "Python 3",
   "language": "python",
   "name": "python3"
  },
  "language_info": {
   "codemirror_mode": {
    "name": "ipython",
    "version": 3
   },
   "file_extension": ".py",
   "mimetype": "text/x-python",
   "name": "python",
   "nbconvert_exporter": "python",
   "pygments_lexer": "ipython3",
   "version": "3.7.4"
  }
 },
 "nbformat": 4,
 "nbformat_minor": 4
}
