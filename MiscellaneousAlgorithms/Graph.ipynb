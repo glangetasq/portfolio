{
 "cells": [
  {
   "cell_type": "markdown",
   "metadata": {},
   "source": [
    "# Graph Algorithms"
   ]
  },
  {
   "cell_type": "code",
   "execution_count": 73,
   "metadata": {},
   "outputs": [],
   "source": [
    "from collections import defaultdict\n",
    "import queue"
   ]
  },
  {
   "cell_type": "code",
   "execution_count": 47,
   "metadata": {},
   "outputs": [],
   "source": [
    "class Graph:\n",
    "    \n",
    "    def __init__(self):\n",
    "        \n",
    "        self.adjancy = defaultdict(list)\n",
    "        \n",
    "        \n",
    "    def add_edge(self, u, v):\n",
    "        \n",
    "        self.adjancy[u].append(v)\n",
    "\n",
    "    \n",
    "    def get_all_edges(self):\n",
    "        \n",
    "        all_edges = set()\n",
    "        \n",
    "        for u, Vs in self.adjancy.items():\n",
    "            \n",
    "            for v in Vs:\n",
    "                \n",
    "                all_edges.add( (u, v) )\n",
    "        \n",
    "        return list(all_edges)\n",
    "    \n",
    "    \n",
    "    @classmethod\n",
    "    def make_graph(cls, edges):\n",
    "        \n",
    "        graph = cls()\n",
    "        \n",
    "        for u, v in edges:\n",
    "            \n",
    "            graph.add_edge(u, v)\n",
    "        \n",
    "        return graph\n",
    "        \n",
    "        "
   ]
  },
  {
   "cell_type": "code",
   "execution_count": 48,
   "metadata": {},
   "outputs": [],
   "source": [
    "class UndirectedGraph(Graph):\n",
    "    \n",
    "    def __init__(self):\n",
    "        \n",
    "        super().__init__()\n",
    "        \n",
    "    \n",
    "    def add_edge(self, u, v):\n",
    "        \n",
    "        super().add_edge(u, v)\n",
    "        super().add_edge(v, u)\n",
    "    \n",
    "    \n",
    "    def get_all_edges(self):\n",
    "        \n",
    "        directed_edges = super().get_all_edges()\n",
    "        \n",
    "        undirected_edges = { (min(u, v), max(u, v)) for (u, v) in directed_edges }\n",
    "        \n",
    "        return list(undirected_edges)\n",
    "        \n",
    "        "
   ]
  },
  {
   "cell_type": "code",
   "execution_count": 51,
   "metadata": {},
   "outputs": [],
   "source": [
    "edges = [\n",
    "    (0, 1),\n",
    "    (1, 2),\n",
    "    (2, 0),\n",
    "]\n",
    "\n",
    "defaultGraph = UndirectedGraph.make_graph(edges)"
   ]
  },
  {
   "cell_type": "markdown",
   "metadata": {},
   "source": [
    "## DFS - Unique Components"
   ]
  },
  {
   "cell_type": "code",
   "execution_count": 68,
   "metadata": {},
   "outputs": [],
   "source": [
    "def DFS(graph):\n",
    "    \n",
    "    visited = { node : False for node in graph.adjancy }\n",
    "    \n",
    "    def DFS_one_node(graph, u, visited, component=[]):\n",
    "        \n",
    "        if u in component or visited[u]:\n",
    "            return None\n",
    "        \n",
    "        visited[u] = True\n",
    "        component.append(u)\n",
    "        children = [ v for v in graph.adjancy[u] if not visited[v] ]\n",
    "        \n",
    "        for v in children:\n",
    "            \n",
    "            DFS_one_node(graph, v, visited, component)\n",
    "            \n",
    "        return component\n",
    "    \n",
    "    \n",
    "    all_components = []\n",
    "    \n",
    "    for u, vis in visited.items():\n",
    "        \n",
    "        if not vis:\n",
    "            all_components.append(\n",
    "                DFS_one_node(graph, u, visited, component=[])\n",
    "            )\n",
    "    \n",
    "    \n",
    "    return all_components\n",
    "            \n",
    "        "
   ]
  },
  {
   "cell_type": "code",
   "execution_count": 69,
   "metadata": {},
   "outputs": [],
   "source": [
    "def print_components(all_components):\n",
    "    \n",
    "    print(f\"Graph with {len(all_components)} components:\")\n",
    "    \n",
    "    for k, component in enumerate(all_components):\n",
    "        \n",
    "        print(f\"    - Component #{k+1} is : {component}\")"
   ]
  },
  {
   "cell_type": "code",
   "execution_count": 83,
   "metadata": {},
   "outputs": [
    {
     "name": "stdout",
     "output_type": "stream",
     "text": [
      "Graph with 0 components:\n"
     ]
    }
   ],
   "source": [
    "# Zero component graph\n",
    "all_components = DFS(UndirectedGraph())\n",
    "\n",
    "print_components(all_components)"
   ]
  },
  {
   "cell_type": "code",
   "execution_count": 70,
   "metadata": {},
   "outputs": [
    {
     "name": "stdout",
     "output_type": "stream",
     "text": [
      "Graph with 1 components:\n",
      "    - Component #1 is : [0, 1, 2]\n"
     ]
    }
   ],
   "source": [
    "# One component graph\n",
    "all_components = DFS(defaultGraph)\n",
    "\n",
    "print_components(all_components)"
   ]
  },
  {
   "cell_type": "code",
   "execution_count": 71,
   "metadata": {},
   "outputs": [
    {
     "name": "stdout",
     "output_type": "stream",
     "text": [
      "Graph with 2 components:\n",
      "    - Component #1 is : [0, 1, 2]\n",
      "    - Component #2 is : [3, 4]\n"
     ]
    }
   ],
   "source": [
    "# Two components graph\n",
    "twoCompGraph = UndirectedGraph.make_graph(\n",
    "    edges + [(3,4)]\n",
    ")\n",
    "\n",
    "all_components = DFS(twoCompGraph)\n",
    "\n",
    "print_components(all_components)"
   ]
  },
  {
   "cell_type": "code",
   "execution_count": 72,
   "metadata": {},
   "outputs": [
    {
     "name": "stdout",
     "output_type": "stream",
     "text": [
      "Graph with 3 components:\n",
      "    - Component #1 is : [0, 1, 2]\n",
      "    - Component #2 is : [3, 4]\n",
      "    - Component #3 is : [5, 6]\n"
     ]
    }
   ],
   "source": [
    "# Three components graph\n",
    "threeCompGraph = UndirectedGraph.make_graph(\n",
    "    edges + [(3, 4), (5, 6)]\n",
    ")\n",
    "\n",
    "all_components = DFS(threeCompGraph)\n",
    "\n",
    "print_components(all_components)"
   ]
  },
  {
   "cell_type": "markdown",
   "metadata": {},
   "source": [
    "## BFS - Unique Components"
   ]
  },
  {
   "cell_type": "code",
   "execution_count": 88,
   "metadata": {},
   "outputs": [],
   "source": [
    "def BFS(graph):\n",
    "    \n",
    "    visited = { node : False for node in graph.adjancy }\n",
    "    \n",
    "    \n",
    "    def BFS_one_node(graph, u, visited):\n",
    "\n",
    "        leftToVisit = queue.Queue()\n",
    "        leftToVisit.put(u)\n",
    "        component = []\n",
    "        \n",
    "        \n",
    "        while leftToVisit.qsize() > 0:\n",
    "            \n",
    "            currentNode = leftToVisit.get(timeout=5)\n",
    "        \n",
    "            if currentNode in component or visited[currentNode]:\n",
    "                continue\n",
    "                \n",
    "            else:\n",
    "                visited[currentNode] = True\n",
    "                component.append(currentNode)\n",
    "                children = [ v for v in graph.adjancy[u] if not visited[v] ]\n",
    "                \n",
    "                for v in children:\n",
    "                    \n",
    "                    leftToVisit.put(v)\n",
    "        \n",
    "        return component\n",
    "                    \n",
    "        \n",
    "    all_components = []\n",
    "    \n",
    "    for u, vis in visited.items():\n",
    "        \n",
    "        if not vis:\n",
    "            all_components.append(\n",
    "                BFS_one_node(graph, u, visited)\n",
    "            )\n",
    "    \n",
    "    \n",
    "    return all_components"
   ]
  },
  {
   "cell_type": "code",
   "execution_count": 90,
   "metadata": {},
   "outputs": [
    {
     "name": "stdout",
     "output_type": "stream",
     "text": [
      "Graph with 0 components:\n"
     ]
    }
   ],
   "source": [
    "# Zero component graph\n",
    "all_components = BFS(UndirectedGraph())\n",
    "\n",
    "print_components(all_components)"
   ]
  },
  {
   "cell_type": "code",
   "execution_count": 93,
   "metadata": {},
   "outputs": [
    {
     "name": "stdout",
     "output_type": "stream",
     "text": [
      "Graph with 1 components:\n",
      "    - Component #1 is : [0, 1, 2]\n"
     ]
    }
   ],
   "source": [
    "# One component graph\n",
    "all_components = BFS(defaultGraph)\n",
    "\n",
    "print_components(all_components)"
   ]
  },
  {
   "cell_type": "code",
   "execution_count": 92,
   "metadata": {},
   "outputs": [
    {
     "name": "stdout",
     "output_type": "stream",
     "text": [
      "Graph with 2 components:\n",
      "    - Component #1 is : [0, 1, 2]\n",
      "    - Component #2 is : [3, 4]\n"
     ]
    }
   ],
   "source": [
    "# Two components graph\n",
    "twoCompGraph = UndirectedGraph.make_graph(\n",
    "    edges + [(3,4)]\n",
    ")\n",
    "\n",
    "all_components = BFS(twoCompGraph)\n",
    "\n",
    "print_components(all_components)"
   ]
  },
  {
   "cell_type": "code",
   "execution_count": 89,
   "metadata": {},
   "outputs": [
    {
     "name": "stdout",
     "output_type": "stream",
     "text": [
      "Graph with 3 components:\n",
      "    - Component #1 is : [0, 1, 2]\n",
      "    - Component #2 is : [3, 4]\n",
      "    - Component #3 is : [5, 6]\n"
     ]
    }
   ],
   "source": [
    "# Three components graph\n",
    "threeCompGraph = UndirectedGraph.make_graph(\n",
    "    edges + [(3, 4), (5, 6)]\n",
    ")\n",
    "\n",
    "all_components = BFS(threeCompGraph)\n",
    "\n",
    "print_components(all_components)"
   ]
  }
 ],
 "metadata": {
  "kernelspec": {
   "display_name": "Python 3",
   "language": "python",
   "name": "python3"
  },
  "language_info": {
   "codemirror_mode": {
    "name": "ipython",
    "version": 3
   },
   "file_extension": ".py",
   "mimetype": "text/x-python",
   "name": "python",
   "nbconvert_exporter": "python",
   "pygments_lexer": "ipython3",
   "version": "3.7.4"
  }
 },
 "nbformat": 4,
 "nbformat_minor": 2
}
