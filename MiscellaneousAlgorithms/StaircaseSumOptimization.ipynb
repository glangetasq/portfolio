{
 "cells": [
  {
   "cell_type": "code",
   "execution_count": 11,
   "metadata": {},
   "outputs": [],
   "source": [
    "import numpy as np\n",
    "from time import time"
   ]
  },
  {
   "cell_type": "code",
   "execution_count": 2,
   "metadata": {},
   "outputs": [],
   "source": [
    "def make_array(n):\n",
    "    \n",
    "    return np.random.randint(-100, 100, n)"
   ]
  },
  {
   "cell_type": "markdown",
   "metadata": {},
   "source": [
    "# First Implementation"
   ]
  },
  {
   "cell_type": "code",
   "execution_count": 9,
   "metadata": {},
   "outputs": [],
   "source": [
    "def no_queue(array, maxStep):\n",
    "\n",
    "    # Cache allocation\n",
    "    memorization = maxStep * [0]\n",
    "    \n",
    "    # Initialization\n",
    "    memorization[0] = array[0]\n",
    "    for k in range(1, maxStep):\n",
    "        memorization[k] = array[k] + max(memorization[:k])\n",
    "        \n",
    "    # Recursion\n",
    "    for a in array[maxStep:]:\n",
    "        \n",
    "        new_mem = a + max(memorization)\n",
    "        memorization[:-1] = memorization[1:]\n",
    "        memorization[-1] = new_mem\n",
    "    \n",
    "    return memorization[-1]\n",
    "\n",
    "    "
   ]
  },
  {
   "cell_type": "markdown",
   "metadata": {},
   "source": [
    "# Second implementation"
   ]
  },
  {
   "cell_type": "code",
   "execution_count": 45,
   "metadata": {},
   "outputs": [],
   "source": [
    "class QueueMax:\n",
    "    \n",
    "    def __init__(self, first_batch):\n",
    "        \n",
    "        self.back = first_batch\n",
    "        self.front = []\n",
    "        self.max = max(first_batch)\n",
    "    \n",
    "    \n",
    "    def compute_current_max(self):\n",
    "        \n",
    "        M = -float('inf')\n",
    "        \n",
    "        for x in self.back:\n",
    "            M = x if x > M else M\n",
    "        for x in self.front:\n",
    "            M = x if x > M else M\n",
    "            \n",
    "        return M\n",
    "    \n",
    "    \n",
    "    def get_max(self):\n",
    "        return self.max\n",
    "    \n",
    "    \n",
    "    def queue(self, x):\n",
    "        \n",
    "        self.back.append(x)\n",
    "    \n",
    "    \n",
    "    def unqueue(self):\n",
    "        \n",
    "        if not self.front:\n",
    "            self.back.reverse()\n",
    "            self.front = self.back\n",
    "            self.back = []\n",
    "        \n",
    "        return self.front.pop()\n",
    "    \n",
    "    \n",
    "    def update(self, x):\n",
    "        \n",
    "        self.queue(x)\n",
    "        out = self.unqueue()\n",
    "        \n",
    "        if out == self.max:\n",
    "            self.max = self.compute_current_max()\n",
    "        else:\n",
    "            self.max = max(self.max, x)\n",
    "        \n",
    "        \n",
    "        return self.max\n",
    "        \n",
    "        "
   ]
  },
  {
   "cell_type": "code",
   "execution_count": 93,
   "metadata": {},
   "outputs": [],
   "source": [
    "def with_queue(array, maxStep):\n",
    "\n",
    "    # Cache allocation\n",
    "    memorization = array[:1]\n",
    "    \n",
    "    for x in array[1:maxStep]:\n",
    "        memorization.append( x + max(memorization))\n",
    "        \n",
    "    q = QueueMax(memorization)\n",
    "    \n",
    "    # Recursion\n",
    "    for a in array[maxStep:]:\n",
    "        \n",
    "        new_mem = a + q.get_max()\n",
    "        q.update(new_mem)\n",
    "    \n",
    "    return new_mem"
   ]
  },
  {
   "cell_type": "code",
   "execution_count": 94,
   "metadata": {},
   "outputs": [],
   "source": [
    "def timeit(f, array, maxStep):\n",
    "    \n",
    "    t0 = time()"
   ]
  },
  {
   "cell_type": "code",
   "execution_count": 103,
   "metadata": {},
   "outputs": [],
   "source": [
    "def compare_Ns():\n",
    "    \n",
    "    Ns = [100, 1000, 5000, 10000, 20000]\n",
    "    k = 5\n",
    "    r = 10\n",
    "    \n",
    "    timings_no_queue = []\n",
    "    timings_with_queue = []\n",
    "    \n",
    "    for N in Ns:\n",
    "        \n",
    "        arrays = [ list(make_array(N)) for _ in range(r) ]\n",
    "        \n",
    "        t0 = time()\n",
    "        \n",
    "        for arr in arrays:\n",
    "            \n",
    "            no_queue(arr, k)\n",
    "        \n",
    "        t1 = time()\n",
    "        \n",
    "        timings_no_queue.append( (t1-t0) / r )\n",
    "        \n",
    "        \n",
    "        for arr in arrays:\n",
    "            \n",
    "            with_queue(arr, k)\n",
    "            \n",
    "        t2 = time()\n",
    "        \n",
    "        timings_with_queue.append( (t2-t1) / r )\n",
    "    \n",
    "    \n",
    "    plt.plot(Ns, timings_no_queue, label = 'no')\n",
    "    plt.plot(Ns, timings_with_queue, label = 'q')\n",
    "    plt.legend()\n",
    "        "
   ]
  },
  {
   "cell_type": "code",
   "execution_count": 104,
   "metadata": {},
   "outputs": [
    {
     "data": {
      "image/png": "[encoded data removed]",
      "text/plain": [
       "<Figure size 432x288 with 1 Axes>"
      ]
     },
     "metadata": {
      "needs_background": "light"
     },
     "output_type": "display_data"
    }
   ],
   "source": [
    "compare_Ns();"
   ]
  },
  {
   "cell_type": "code",
   "execution_count": 107,
   "metadata": {},
   "outputs": [],
   "source": [
    "def compare_Ks():\n",
    "    \n",
    "    N = 10000\n",
    "    Ks = [5, 10, 20, 50, 100, 500, 1000, 2000]\n",
    "    r = 10\n",
    "    \n",
    "    timings_no_queue = []\n",
    "    timings_with_queue = []\n",
    "    \n",
    "    for k in Ks:\n",
    "        \n",
    "        arrays = [ list(make_array(N)) for _ in range(r) ]\n",
    "        \n",
    "        t0 = time()\n",
    "        \n",
    "        for arr in arrays:\n",
    "            \n",
    "            no_queue(arr, k)\n",
    "        \n",
    "        t1 = time()\n",
    "        \n",
    "        timings_no_queue.append( (t1-t0) / r )\n",
    "        \n",
    "        \n",
    "        for arr in arrays:\n",
    "            \n",
    "            with_queue(arr, k)\n",
    "            \n",
    "        t2 = time()\n",
    "        \n",
    "        timings_with_queue.append( (t2-t1) / r )\n",
    "    \n",
    "    \n",
    "    plt.plot(Ns, timings_no_queue, label = 'no')\n",
    "    plt.plot(Ns, timings_with_queue, label = 'q')\n",
    "    plt.legend()\n",
    "        "
   ]
  },
  {
   "cell_type": "code",
   "execution_count": 108,
   "metadata": {},
   "outputs": [
    {
     "data": {
      "image/png": "[encoded data removed]",
      "text/plain": [
       "<Figure size 432x288 with 1 Axes>"
      ]
     },
     "metadata": {
      "needs_background": "light"
     },
     "output_type": "display_data"
    }
   ],
   "source": [
    "compare_Ks()"
   ]
  },
  {
   "cell_type": "code",
   "execution_count": 112,
   "metadata": {},
   "outputs": [],
   "source": [
    "def compare_frac():\n",
    "    \n",
    "    Ns = [500, 1000, 5000, 10000, 20000]\n",
    "    # k = 5\n",
    "    r = 10\n",
    "    \n",
    "    timings_no_queue = []\n",
    "    timings_with_queue = []\n",
    "    \n",
    "    for N in Ns:\n",
    "        \n",
    "        arrays = [ list(make_array(N)) for _ in range(r) ]\n",
    "        \n",
    "        t0 = time()\n",
    "        \n",
    "        for arr in arrays:\n",
    "            \n",
    "            no_queue(arr, N // 100)\n",
    "        \n",
    "        t1 = time()\n",
    "        \n",
    "        timings_no_queue.append( (t1-t0) / r )\n",
    "        \n",
    "        \n",
    "        for arr in arrays:\n",
    "            \n",
    "            with_queue(arr, N // 100)\n",
    "            \n",
    "        t2 = time()\n",
    "        \n",
    "        timings_with_queue.append( (t2-t1) / r )\n",
    "    \n",
    "    \n",
    "    plt.plot(Ns, timings_no_queue, label = 'no')\n",
    "    plt.plot(Ns, timings_with_queue, label = 'q')\n",
    "    plt.legend()\n",
    "        "
   ]
  },
  {
   "cell_type": "code",
   "execution_count": 113,
   "metadata": {},
   "outputs": [
    {
     "data": {
      "image/png": "[encoded data removed]",
      "text/plain": [
       "<Figure size 432x288 with 1 Axes>"
      ]
     },
     "metadata": {
      "needs_background": "light"
     },
     "output_type": "display_data"
    }
   ],
   "source": [
    "compare_frac()"
   ]
  },
  {
   "cell_type": "code",
   "execution_count": null,
   "metadata": {},
   "outputs": [],
   "source": []
  }
 ],
 "metadata": {
  "kernelspec": {
   "display_name": "Python 3",
   "language": "python",
   "name": "python3"
  },
  "language_info": {
   "codemirror_mode": {
    "name": "ipython",
    "version": 3
   },
   "file_extension": ".py",
   "mimetype": "text/x-python",
   "name": "python",
   "nbconvert_exporter": "python",
   "pygments_lexer": "ipython3",
   "version": "3.7.4"
  }
 },
 "nbformat": 4,
 "nbformat_minor": 2
}
