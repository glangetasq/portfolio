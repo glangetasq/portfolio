{
 "cells": [
  {
   "cell_type": "markdown",
   "metadata": {},
   "source": [
    "# Coin Change Problem\n",
    "\n",
    "Given a number of potential coins (1c, 10c, 25c, ...) and a number of money, what is the least amount of coins we can use to give the change?"
   ]
  },
  {
   "cell_type": "code",
   "execution_count": 2,
   "metadata": {},
   "outputs": [],
   "source": [
    "def coin_change(arr : list, n : int) -> int:\n",
    "    \n",
    "    assert(min(arr) > 0)\n",
    "    \n",
    "    memorization = (n+1) * [None]\n",
    "    \n",
    "    # Initialization \n",
    "    memorization[0] = 0\n",
    "    \n",
    "    for i in range(1, n+1):\n",
    "        \n",
    "        sub_problems = [ memorization[i-x] for x in arr if i-x >= 0 ]\n",
    "        \n",
    "        memorization[i] = 1 + min(sub_problems)\n",
    "        \n",
    "    return memorization[-1]\n",
    "        \n",
    "        "
   ]
  },
  {
   "cell_type": "markdown",
   "metadata": {},
   "source": [
    "## Test with classic USD"
   ]
  },
  {
   "cell_type": "code",
   "execution_count": 15,
   "metadata": {},
   "outputs": [],
   "source": [
    "usd_coins = [1, 5, 10, 25, 100, 500, 1000, 20000, 50000, 100000]\n",
    "\n",
    "# Corner case n = 0\n",
    "assert coin_change(usd_coins, 0) == 0\n",
    "\n",
    "# n in usd_coins\n",
    "for x in usd_coins:\n",
    "    assert coin_change(usd_coins, x) == 1\n",
    "    \n",
    "assert coin_change(usd_coins, 4) == 4"
   ]
  },
  {
   "cell_type": "markdown",
   "metadata": {},
   "source": [
    "# Mansoon Umbrella Problem"
   ]
  },
  {
   "cell_type": "code",
   "execution_count": 16,
   "metadata": {},
   "outputs": [],
   "source": [
    "def mansoon_umbrella(arr : list, n : int) -> bool:\n",
    "    \n",
    "    memorization = (n+1) * [None]\n",
    "    memorization[0] = True\n",
    "    \n",
    "    for i in range(1, n+1):\n",
    "        \n",
    "        sub_problems = [ memorization[i-x] for x in arr if i-x >= 0 ]\n",
    "        \n",
    "        memorization[i] = any(sub_problems)\n",
    "        \n",
    "    return memorization[-1]\n",
    "    \n",
    "    "
   ]
  },
  {
   "cell_type": "code",
   "execution_count": 26,
   "metadata": {},
   "outputs": [],
   "source": [
    "umbrellas = [2, 3, 5]\n",
    "\n",
    "# Corner case n = 0\n",
    "assert mansoon_umbrella(umbrellas, 0)\n",
    "\n",
    "# n in umbrellas\n",
    "for u in umbrellas:\n",
    "    assert mansoon_umbrella(umbrellas, u)\n",
    "    \n",
    "# Impossible cases\n",
    "assert not mansoon_umbrella([3, 5], 2)\n",
    "assert not mansoon_umbrella([4, 5], 7)"
   ]
  }
 ],
 "metadata": {
  "kernelspec": {
   "display_name": "Python 3",
   "language": "python",
   "name": "python3"
  },
  "language_info": {
   "codemirror_mode": {
    "name": "ipython",
    "version": 3
   },
   "file_extension": ".py",
   "mimetype": "text/x-python",
   "name": "python",
   "nbconvert_exporter": "python",
   "pygments_lexer": "ipython3",
   "version": "3.9.0"
  }
 },
 "nbformat": 4,
 "nbformat_minor": 4
}
