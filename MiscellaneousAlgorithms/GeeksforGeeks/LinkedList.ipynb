{
 "cells": [
  {
   "cell_type": "markdown",
   "id": "blessed-delaware",
   "metadata": {},
   "source": [
    "# Linked List\n",
    "\n",
    "Table of content:\n",
    "- Insert\n",
    "- Delete\n",
    "- x\n",
    "- x\n",
    "\n",
    "[Reference](https://www.geeksforgeeks.org/given-a-linked-list-which-is-sorted-how-will-you-insert-in-sorted-way/)"
   ]
  },
  {
   "cell_type": "markdown",
   "id": "boxed-egypt",
   "metadata": {},
   "source": [
    "# Implementation"
   ]
  },
  {
   "cell_type": "code",
   "execution_count": 3,
   "id": "analyzed-orlando",
   "metadata": {},
   "outputs": [],
   "source": [
    "class Node:\n",
    "    \n",
    "    def __init__(self, data, next_=None):\n",
    "        \n",
    "        self.data = data\n",
    "        self.next = next_\n",
    "        \n",
    "    \n",
    "    def set_next(next_):\n",
    "        self.next_ = next_\n",
    "        \n",
    "        "
   ]
  },
  {
   "cell_type": "code",
   "execution_count": 31,
   "id": "fancy-decade",
   "metadata": {},
   "outputs": [],
   "source": [
    "class LinkedList:\n",
    "    \n",
    "    def __init__(self, data_start=None):\n",
    "        \n",
    "        self.root = None if data_start is None else Node(data_start)\n",
    "    \n",
    "    \n",
    "    @property\n",
    "    def next(self):\n",
    "        return self.root.next\n",
    "    \n",
    "    \n",
    "    def insert(self, x):\n",
    "        \n",
    "        if self.root is None:\n",
    "            self.root = Node(x)\n",
    "        else:\n",
    "            previous_node = self.root\n",
    "\n",
    "            while previous_node.next is not None:\n",
    "                previous_node = previous_node.next\n",
    "\n",
    "            previous_node.next = Node(x)\n",
    "        \n",
    "        \n",
    "    def delete(self, x):\n",
    "        \n",
    "        if self.root is None:\n",
    "            raise ValueError(f\"{x} is not in the LinkedList {hex(id(self))}.\")\n",
    "        elif self.root.data == x:\n",
    "            self.root = self.root.next\n",
    "        else:\n",
    "        \n",
    "            previous_node = self.root\n",
    "\n",
    "            while previous_node.next is not None and previous_node.next.data != x:\n",
    "                previous_node = previous_node.next\n",
    "                \n",
    "            if previous_node.next is None:\n",
    "                raise ValueError(f\"{x} is not in the LinkedList {hex(id(self))}.\")\n",
    "            \n",
    "            previous_node.next = previous_node.next.next\n",
    "\n",
    "            \n",
    "    def __str__(self):\n",
    "        \n",
    "        nodes = []\n",
    "        current_node = self.root\n",
    "        \n",
    "        while current_node is not None:\n",
    "            nodes.append(str(current_node.data))\n",
    "            current_node = current_node.next\n",
    "            \n",
    "        return \" -> \".join(nodes)\n",
    "    \n",
    "    \n",
    "    @classmethod\n",
    "    def make(cls, iterator):\n",
    "\n",
    "        ll = cls()\n",
    "        \n",
    "        for x in iterator:\n",
    "            ll.insert(x)\n",
    "            \n",
    "        return ll\n",
    "        "
   ]
  },
  {
   "cell_type": "markdown",
   "id": "forced-balance",
   "metadata": {},
   "source": [
    "# 1 and 2: Insert and Delete"
   ]
  },
  {
   "cell_type": "code",
   "execution_count": 24,
   "id": "systematic-flashing",
   "metadata": {},
   "outputs": [],
   "source": [
    "class SortedLinkedList(LinkedList): # Increasing\n",
    "    \n",
    "    def __init__(self, data_start=None):\n",
    "        \n",
    "        super().__init__(data_start)\n",
    "        \n",
    "        \n",
    "    def insert(self, x):\n",
    "        \n",
    "        if self.root is None:\n",
    "            self.root = Node(x)\n",
    "        elif x < self.root.data:\n",
    "            self.root = Node(x, self.root)\n",
    "        else:\n",
    "            previous_node = self.root\n",
    "\n",
    "            while previous_node.next is not None and previous_node.next.data < x:\n",
    "                previous_node = previous_node.next\n",
    "\n",
    "            previous_node.next = Node(x, previous_node.next)\n",
    "        \n",
    "        \n",
    "        "
   ]
  },
  {
   "cell_type": "code",
   "execution_count": 25,
   "id": "fifty-speech",
   "metadata": {},
   "outputs": [
    {
     "name": "stdout",
     "output_type": "stream",
     "text": [
      "0 -> 1\n",
      "0 -> 1 -> 3\n",
      "0 -> 1\n",
      "0 -> 1 -> 2\n",
      "0 -> 1 -> 2 -> 10\n",
      "0 -> 1 -> 2 -> 3 -> 10\n",
      "0 -> 1 -> 2 -> 3 -> 5 -> 10\n",
      "0 -> 1 -> 2 -> 3 -> 4 -> 5 -> 10\n",
      "0 -> 1 -> 2 -> 3 -> 4 -> 5 -> 8 -> 10\n",
      "0 -> 1 -> 2 -> 3 -> 4 -> 5 -> 8\n",
      "0 -> 1 -> 2 -> 3 -> 5 -> 8\n",
      "0 -> 2 -> 3 -> 5 -> 8\n",
      "2 -> 3 -> 5 -> 8\n"
     ]
    }
   ],
   "source": [
    "sorted_ll = SortedLinkedList(0)\n",
    "\n",
    "insert = sorted_ll.insert\n",
    "delete = sorted_ll.delete\n",
    "\n",
    "tests = [\n",
    "    (insert, 1),\n",
    "    (insert, 3),\n",
    "    (delete, 3),\n",
    "    (insert, 2),\n",
    "    (insert, 10),\n",
    "    (insert, 3),\n",
    "    (insert, 5),\n",
    "    (insert, 4),\n",
    "    (insert, 8),\n",
    "    (delete, 10),\n",
    "    (delete, 4),\n",
    "    (delete, 1),\n",
    "    (delete, 0),\n",
    "    #(delete, 11)\n",
    "]\n",
    "\n",
    "for f, x in tests:\n",
    "    f(x)\n",
    "    print(sorted_ll)"
   ]
  },
  {
   "cell_type": "markdown",
   "id": "completed-deployment",
   "metadata": {},
   "source": [
    "# 3. Compare 2 string-linked list"
   ]
  },
  {
   "cell_type": "code",
   "execution_count": 33,
   "id": "plastic-procurement",
   "metadata": {},
   "outputs": [],
   "source": [
    "def compare(l1, l2):\n",
    "    \n",
    "    none_substitute = ''\n",
    "    \n",
    "    comparison = 0\n",
    "    \n",
    "    n1, n2 = l1.root, l2.root\n",
    "    \n",
    "    while n1 is not None and n2 is not None:\n",
    "        \n",
    "        d1, d2 = n1.data, n2.data\n",
    "        \n",
    "        if d1 == d2:\n",
    "            n1, n2 = n1.next, n2.next\n",
    "        else:\n",
    "            comparison = 1 if d1 > d2 else -1\n",
    "            break\n",
    "            \n",
    "    if comparison == 0:\n",
    "        if n1 is None and n2 is not None:\n",
    "            comparison = -1\n",
    "        if n1 is not None and n2 is None:\n",
    "            comparison = 1\n",
    "            \n",
    "    return comparison\n",
    "        "
   ]
  },
  {
   "cell_type": "code",
   "execution_count": 42,
   "id": "closed-migration",
   "metadata": {},
   "outputs": [
    {
     "data": {
      "text/plain": [
       "-1"
      ]
     },
     "execution_count": 42,
     "metadata": {},
     "output_type": "execute_result"
    }
   ],
   "source": [
    "s1 = \"geeksa\"\n",
    "s2 = \"geeksb\"\n",
    "\n",
    "l1 = LinkedList.make(s1)\n",
    "l2 = LinkedList.make(s2)\n",
    "\n",
    "compare(l1, l2)"
   ]
  },
  {
   "cell_type": "markdown",
   "id": "disciplinary-mercy",
   "metadata": {},
   "source": [
    "# 4. Add two numbers"
   ]
  },
  {
   "cell_type": "code",
   "execution_count": 45,
   "id": "mental-petersburg",
   "metadata": {},
   "outputs": [],
   "source": [
    "def int_to_list(n):\n",
    "    return [ int(x) for x in list(str(n)) ]"
   ]
  },
  {
   "cell_type": "code",
   "execution_count": 46,
   "id": "cloudy-drilling",
   "metadata": {},
   "outputs": [
    {
     "data": {
      "text/plain": [
       "[1, 3, 2, 4]"
      ]
     },
     "execution_count": 46,
     "metadata": {},
     "output_type": "execute_result"
    }
   ],
   "source": [
    "def add(l1, l2):\n",
    "    \n",
    "    n1, n2 = l1.root, l2.root\n",
    "    \n",
    "    if n1 is None:\n",
    "        return n2\n",
    "    elif n2 is None:\n",
    "        return n1\n",
    "    else:\n",
    "        d1, d2 = n1.data, n2.data\n",
    "        \n",
    "        lresult = add(n1.next, n2.next)\n",
    "        \n",
    "        "
   ]
  },
  {
   "cell_type": "code",
   "execution_count": 53,
   "id": "experienced-repository",
   "metadata": {},
   "outputs": [
    {
     "data": {
      "text/plain": [
       "'0x64'"
      ]
     },
     "execution_count": 53,
     "metadata": {},
     "output_type": "execute_result"
    }
   ],
   "source": []
  },
  {
   "cell_type": "code",
   "execution_count": null,
   "id": "essential-developer",
   "metadata": {},
   "outputs": [],
   "source": []
  }
 ],
 "metadata": {
  "kernelspec": {
   "display_name": "Python 3",
   "language": "python",
   "name": "python3"
  },
  "language_info": {
   "codemirror_mode": {
    "name": "ipython",
    "version": 3
   },
   "file_extension": ".py",
   "mimetype": "text/x-python",
   "name": "python",
   "nbconvert_exporter": "python",
   "pygments_lexer": "ipython3",
   "version": "3.6.10"
  }
 },
 "nbformat": 4,
 "nbformat_minor": 5
}
