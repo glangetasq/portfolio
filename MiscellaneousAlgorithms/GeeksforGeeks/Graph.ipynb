{
 "cells": [
  {
   "cell_type": "markdown",
   "id": "parallel-foundation",
   "metadata": {},
   "source": [
    "# Graph\n",
    "\n",
    "## Table of contents\n",
    "\n",
    "1. BFS\n",
    "2. DFS\n",
    "\n",
    "[Reference](https://www.geeksforgeeks.org/top-10-algorithms-in-interview-questions/)"
   ]
  },
  {
   "cell_type": "markdown",
   "id": "clinical-bailey",
   "metadata": {},
   "source": [
    "## Implementation"
   ]
  },
  {
   "cell_type": "code",
   "execution_count": 52,
   "id": "textile-zimbabwe",
   "metadata": {},
   "outputs": [],
   "source": [
    "class Graph:\n",
    "    \n",
    "    def __init__(self, vertices=[]):\n",
    "        \n",
    "        self.adjancy = { x:[] for x in vertices }\n",
    "        \n",
    "        \n",
    "    def __iter__(self):\n",
    "        return self.adjancy.__iter__()\n",
    "    \n",
    "        \n",
    "    def is_empty(self):\n",
    "        return len(self.adjancy) == 0\n",
    "    \n",
    "        \n",
    "    def add_edge(self, u, v):\n",
    "        \n",
    "        if u in self.adjancy:\n",
    "            self.adjancy[u].append(v)\n",
    "        else:\n",
    "            self.adjancy[u] = [v]\n",
    "            \n",
    "            \n",
    "    def adjacent(self, v):\n",
    "        return self.adjancy.get(v, [])\n",
    "                    \n",
    "            \n",
    "    @property\n",
    "    def vertices(self):\n",
    "        return list(self.adjancy.keys())\n",
    "    \n",
    "    \n",
    "    @classmethod\n",
    "    def make_graph(cls, vertices, edges):\n",
    "        \n",
    "        if isinstance(vertices, int):\n",
    "            vertices = list(range(vertices))\n",
    "            \n",
    "        graph = cls(vertices=vertices)\n",
    "        \n",
    "        for u, v in edges:\n",
    "            graph.add_edge(u, v)\n",
    "\n",
    "        return graph"
   ]
  },
  {
   "cell_type": "code",
   "execution_count": 53,
   "id": "german-gibraltar",
   "metadata": {},
   "outputs": [],
   "source": [
    "class UndirectedGraph(Graph):\n",
    "    \n",
    "    def __init__(self, vertices=[]):\n",
    "        \n",
    "        super().__init__(vertices)\n",
    "        \n",
    "        \n",
    "    def add_edge(self, u, v):\n",
    "        \n",
    "        super().add_edge(u, v)\n",
    "        super().add_edge(v, u)\n",
    "        \n",
    "        "
   ]
  },
  {
   "cell_type": "markdown",
   "id": "micro-flexibility",
   "metadata": {},
   "source": [
    "## Queue Implementation"
   ]
  },
  {
   "cell_type": "code",
   "execution_count": 77,
   "id": "brave-guide",
   "metadata": {},
   "outputs": [],
   "source": [
    "class Queue:\n",
    "    \n",
    "    def __init__(self):\n",
    "        \n",
    "        self.front = []\n",
    "        self.back = []\n",
    "        \n",
    "        \n",
    "    def pop(self):\n",
    "        \n",
    "        if not self.front:\n",
    "            self.front, self.back = self.back[::-1], self.front\n",
    "        \n",
    "        return self.front.pop()\n",
    "            \n",
    "\n",
    "    def put(self, x):\n",
    "        self.back.append(x)\n",
    "        \n",
    "        \n",
    "    def is_empty(self):\n",
    "        return not(self.front  or self.back)"
   ]
  },
  {
   "cell_type": "markdown",
   "id": "gorgeous-portal",
   "metadata": {},
   "source": [
    "# 1. BFS"
   ]
  },
  {
   "cell_type": "code",
   "execution_count": 82,
   "id": "significant-overview",
   "metadata": {},
   "outputs": [],
   "source": [
    "def bfs(G, vertex_start):\n",
    "\n",
    "    if G.is_empty:\n",
    "        return []\n",
    "    \n",
    "    visited = { vertex:False for vertex in G }\n",
    "    visit_order = []\n",
    "    to_visit = Queue()\n",
    "    \n",
    "    to_visit.put(vertex_start)\n",
    "\n",
    "    while not to_visit.is_empty():\n",
    "\n",
    "        next_vertex = to_visit.pop()\n",
    "\n",
    "        if not visited[next_vertex]:\n",
    "            visited[next_vertex] = True\n",
    "            visit_order.append(next_vertex)\n",
    "            \n",
    "            for subvertex in G.adjacent(next_vertex):\n",
    "                \n",
    "                if not visited[subvertex]:\n",
    "                    to_visit.put(subvertex)\n",
    "\n",
    "    \n",
    "    return visit_order\n",
    "\n",
    "    "
   ]
  },
  {
   "cell_type": "code",
   "execution_count": 81,
   "id": "dedicated-tunnel",
   "metadata": {},
   "outputs": [
    {
     "name": "stdout",
     "output_type": "stream",
     "text": [
      "[2, 0, 3, 1]\n",
      "[1, 0, 3, 2]\n",
      "[0, 1, 2, 3]\n",
      "[4]\n"
     ]
    }
   ],
   "source": [
    "tests = [\n",
    "    (Graph.make_graph(4, [(2,0), (0,2), (3,3), (0,1), (1,2), (2,3)]), 2),\n",
    "    (UndirectedGraph.make_graph(5, [(0, 1), (0,2), (2,3), (3,1), (3, 0)]), 1),\n",
    "    (UndirectedGraph.make_graph(5, [(0, 1), (0,2), (2,3), (3,1), (3, 0)]), 0),\n",
    "    (UndirectedGraph.make_graph(5, [(0, 1), (0,2), (2,3), (3,1), (3, 0)]), 4),\n",
    "]\n",
    "\n",
    "for G, start in tests:\n",
    "    order = bfs(G, start)\n",
    "    print(order)"
   ]
  },
  {
   "cell_type": "markdown",
   "id": "large-antigua",
   "metadata": {},
   "source": [
    "# 2. DFS"
   ]
  },
  {
   "cell_type": "code",
   "execution_count": 83,
   "id": "welsh-default",
   "metadata": {},
   "outputs": [],
   "source": [
    "def dfs(G, vertex_start):\n",
    "    \n",
    "    if G.is_empty():\n",
    "        return []\n",
    "\n",
    "    visited = { vertex:False for vertex in G }\n",
    "    visit_order = []\n",
    "    to_visit = []\n",
    "    \n",
    "    to_visit.append(vertex_start)\n",
    "    \n",
    "    while to_visit:\n",
    "        \n",
    "        next_vertex = to_visit.pop()\n",
    "        \n",
    "        if visited[next_vertex]:\n",
    "            \n",
    "            continue\n",
    "            \n",
    "        else:\n",
    "            \n",
    "            visited[next_vertex] = True\n",
    "            visit_order.append(next_vertex)\n",
    "            \n",
    "            for x in G.adjancent(next_vertex):\n",
    "                if not visited[x]:\n",
    "                    to_visit.append(x)\n",
    "                    \n",
    "                    \n",
    "    return visit_order\n",
    "                    \n",
    "        "
   ]
  },
  {
   "cell_type": "code",
   "execution_count": 42,
   "id": "secure-costs",
   "metadata": {},
   "outputs": [
    {
     "data": {
      "text/plain": [
       "True"
      ]
     },
     "execution_count": 42,
     "metadata": {},
     "output_type": "execute_result"
    }
   ],
   "source": [
    "q = Queue()\n",
    "q.put(2)\n",
    "q.put(3)\n",
    "q.pop()\n",
    "q.pop()\n",
    "q.is_empty()"
   ]
  },
  {
   "cell_type": "code",
   "execution_count": 40,
   "id": "extra-partnership",
   "metadata": {},
   "outputs": [
    {
     "ename": "IndexError",
     "evalue": "pop from empty list",
     "output_type": "error",
     "traceback": [
      "\u001b[0;31m---------------------------------------------------------------------------\u001b[0m",
      "\u001b[0;31mIndexError\u001b[0m                                Traceback (most recent call last)",
      "\u001b[0;32m<ipython-input-40-804ffc29e276>\u001b[0m in \u001b[0;36m<module>\u001b[0;34m\u001b[0m\n\u001b[0;32m----> 1\u001b[0;31m \u001b[0mq\u001b[0m\u001b[0;34m.\u001b[0m\u001b[0mpop\u001b[0m\u001b[0;34m(\u001b[0m\u001b[0;34m)\u001b[0m\u001b[0;34m\u001b[0m\u001b[0;34m\u001b[0m\u001b[0m\n\u001b[0m\u001b[1;32m      2\u001b[0m \u001b[0mq\u001b[0m\u001b[0;34m.\u001b[0m\u001b[0mfront\u001b[0m\u001b[0;34m,\u001b[0m \u001b[0mq\u001b[0m\u001b[0;34m.\u001b[0m\u001b[0mback\u001b[0m\u001b[0;34m\u001b[0m\u001b[0;34m\u001b[0m\u001b[0m\n",
      "\u001b[0;32m<ipython-input-36-b5b8dcfd9448>\u001b[0m in \u001b[0;36mpop\u001b[0;34m(self)\u001b[0m\n\u001b[1;32m     12\u001b[0m             \u001b[0mself\u001b[0m\u001b[0;34m.\u001b[0m\u001b[0mfront\u001b[0m\u001b[0;34m,\u001b[0m \u001b[0mself\u001b[0m\u001b[0;34m.\u001b[0m\u001b[0mback\u001b[0m \u001b[0;34m=\u001b[0m \u001b[0mself\u001b[0m\u001b[0;34m.\u001b[0m\u001b[0mback\u001b[0m\u001b[0;34m[\u001b[0m\u001b[0;34m:\u001b[0m\u001b[0;34m:\u001b[0m\u001b[0;34m-\u001b[0m\u001b[0;36m1\u001b[0m\u001b[0;34m]\u001b[0m\u001b[0;34m,\u001b[0m \u001b[0mself\u001b[0m\u001b[0;34m.\u001b[0m\u001b[0mfront\u001b[0m\u001b[0;34m\u001b[0m\u001b[0;34m\u001b[0m\u001b[0m\n\u001b[1;32m     13\u001b[0m \u001b[0;34m\u001b[0m\u001b[0m\n\u001b[0;32m---> 14\u001b[0;31m         \u001b[0;32mreturn\u001b[0m \u001b[0mself\u001b[0m\u001b[0;34m.\u001b[0m\u001b[0mfront\u001b[0m\u001b[0;34m.\u001b[0m\u001b[0mpop\u001b[0m\u001b[0;34m(\u001b[0m\u001b[0;34m)\u001b[0m\u001b[0;34m\u001b[0m\u001b[0;34m\u001b[0m\u001b[0m\n\u001b[0m\u001b[1;32m     15\u001b[0m \u001b[0;34m\u001b[0m\u001b[0m\n\u001b[1;32m     16\u001b[0m \u001b[0;34m\u001b[0m\u001b[0m\n",
      "\u001b[0;31mIndexError\u001b[0m: pop from empty list"
     ]
    }
   ],
   "source": [
    "q.pop()\n",
    "q.front, q.back"
   ]
  },
  {
   "cell_type": "code",
   "execution_count": 23,
   "id": "happy-queens",
   "metadata": {},
   "outputs": [
    {
     "data": {
      "text/plain": [
       "{list: None, 1: 2}"
      ]
     },
     "execution_count": 23,
     "metadata": {},
     "output_type": "execute_result"
    }
   ],
   "source": []
  },
  {
   "cell_type": "code",
   "execution_count": null,
   "id": "dirty-procedure",
   "metadata": {},
   "outputs": [],
   "source": []
  }
 ],
 "metadata": {
  "kernelspec": {
   "display_name": "Python 3",
   "language": "python",
   "name": "python3"
  },
  "language_info": {
   "codemirror_mode": {
    "name": "ipython",
    "version": 3
   },
   "file_extension": ".py",
   "mimetype": "text/x-python",
   "name": "python",
   "nbconvert_exporter": "python",
   "pygments_lexer": "ipython3",
   "version": "3.6.10"
  }
 },
 "nbformat": 4,
 "nbformat_minor": 5
}
