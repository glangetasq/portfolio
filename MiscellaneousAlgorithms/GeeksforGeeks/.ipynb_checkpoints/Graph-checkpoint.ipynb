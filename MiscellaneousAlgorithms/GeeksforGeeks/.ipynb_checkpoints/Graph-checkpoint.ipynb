{
 "cells": [
  {
   "cell_type": "markdown",
   "id": "parallel-foundation",
   "metadata": {},
   "source": [
    "# Graph\n",
    "\n",
    "## Table of contents\n",
    "\n",
    "1. BFS\n",
    "2. DFS\n",
    "\n",
    "[Reference](https://www.geeksforgeeks.org/top-10-algorithms-in-interview-questions/)"
   ]
  },
  {
   "cell_type": "markdown",
   "id": "clinical-bailey",
   "metadata": {},
   "source": [
    "## Implementation"
   ]
  },
  {
   "cell_type": "code",
   "execution_count": 1,
   "id": "textile-zimbabwe",
   "metadata": {},
   "outputs": [],
   "source": [
    "class Graph:\n",
    "    \n",
    "    def __init__(self):\n",
    "        pass\n",
    "    \n"
   ]
  },
  {
   "cell_type": "markdown",
   "id": "gorgeous-portal",
   "metadata": {},
   "source": [
    "# 1. BFS"
   ]
  },
  {
   "cell_type": "code",
   "execution_count": null,
   "id": "significant-overview",
   "metadata": {},
   "outputs": [],
   "source": []
  },
  {
   "cell_type": "code",
   "execution_count": null,
   "id": "dedicated-tunnel",
   "metadata": {},
   "outputs": [],
   "source": []
  }
 ],
 "metadata": {
  "kernelspec": {
   "display_name": "Python 3",
   "language": "python",
   "name": "python3"
  },
  "language_info": {
   "codemirror_mode": {
    "name": "ipython",
    "version": 3
   },
   "file_extension": ".py",
   "mimetype": "text/x-python",
   "name": "python",
   "nbconvert_exporter": "python",
   "pygments_lexer": "ipython3",
   "version": "3.6.10"
  }
 },
 "nbformat": 4,
 "nbformat_minor": 5
}
