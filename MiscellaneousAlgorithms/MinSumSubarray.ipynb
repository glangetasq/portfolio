{
 "cells": [
  {
   "cell_type": "markdown",
   "metadata": {},
   "source": [
    "# Min Sum Subarray\n",
    "\n",
    "Problem based on Arrow Street Hacker Rank test"
   ]
  },
  {
   "cell_type": "markdown",
   "metadata": {},
   "source": [
    "## Implementation"
   ]
  },
  {
   "cell_type": "code",
   "execution_count": 5,
   "metadata": {},
   "outputs": [],
   "source": [
    "class Queue:\n",
    "    \n",
    "    def __init__(self):\n",
    "        \n",
    "        self.back = []\n",
    "        self.front = []\n",
    "        self.size = 0\n",
    "        \n",
    "    def put(self, x):\n",
    "        \n",
    "        self.back.append(x)\n",
    "        self.size += 1\n",
    "        \n",
    "    def pop(self):\n",
    "        \n",
    "        if self.size == 0:\n",
    "            raise (\"Tried to pop empty queue.\")\n",
    "        \n",
    "        if not self.front:\n",
    "            self.front, self.back = self.back[::-1], self.front\n",
    "            \n",
    "        self.size -= 1\n",
    "        \n",
    "        return self.front.pop()\n",
    "    "
   ]
  },
  {
   "cell_type": "code",
   "execution_count": 11,
   "metadata": {},
   "outputs": [],
   "source": [
    "class MinSumFixedSizeQueue(Queue):\n",
    "    \n",
    "    def __init__(self, firstSubArray):\n",
    "        \n",
    "        super().__init__()\n",
    "        self.back = firstSubArray\n",
    "        self.sum = sum(firstSubArray)\n",
    "        self.min = self.sum\n",
    "        \n",
    "        \n",
    "    def update(self, x):\n",
    "        \n",
    "        self.put(x)\n",
    "        old = self.pop()\n",
    "        \n",
    "        self.sum = self.sum - old + x\n",
    "        self.min = min(self.min, self.sum)\n",
    "        \n",
    "    def get_min(self):\n",
    "        return self.min\n",
    "        "
   ]
  },
  {
   "cell_type": "code",
   "execution_count": 14,
   "metadata": {},
   "outputs": [],
   "source": [
    "def min_sum_subarray(array, window):\n",
    "    \n",
    "    assert(len(array) >= window)\n",
    "    \n",
    "    queue = MinSumFixedSizeQueue(array[:window])\n",
    "    \n",
    "    for x in array[window:]:\n",
    "        queue.update(x)\n",
    "        \n",
    "    return queue.get_min()"
   ]
  },
  {
   "cell_type": "markdown",
   "metadata": {},
   "source": [
    "# Testing"
   ]
  },
  {
   "cell_type": "markdown",
   "metadata": {},
   "source": [
    "## Queue Class"
   ]
  },
  {
   "cell_type": "code",
   "execution_count": 12,
   "metadata": {},
   "outputs": [],
   "source": [
    "queue = Queue()\n",
    "assert queue.back == [] and queue.front == []\n",
    "\n",
    "queue.put(1)\n",
    "assert queue.back == [1] and queue.front == []\n",
    "\n",
    "queue.put(2)\n",
    "assert queue.back == [1, 2] and queue.front == []\n",
    "\n",
    "queue.put(3)\n",
    "assert queue.back == [1, 2, 3] and queue.front == []\n",
    "\n",
    "x = queue.pop()\n",
    "assert x == 1 and queue.back == [] and queue.front == [3, 2]\n",
    "\n",
    "queue.put(4)\n",
    "assert queue.back == [4] and queue.front == [3, 2]\n",
    "\n",
    "x = queue.pop()\n",
    "assert x == 2 and queue.back == [4] and queue.front == [3]\n",
    "\n",
    "x = queue.pop()\n",
    "assert x == 3 and queue.back == [4] and queue.front == []\n",
    "\n",
    "x = queue.pop()\n",
    "assert x == 4 and queue.back == [] and queue.front == []\n",
    "\n",
    "try:\n",
    "    queue.pop()\n",
    "    raise ValueError(\"Popped an empty queue...\")\n",
    "except:\n",
    "    pass"
   ]
  },
  {
   "cell_type": "markdown",
   "metadata": {},
   "source": [
    "## MinSumFixedSizeQueue Class"
   ]
  },
  {
   "cell_type": "code",
   "execution_count": 13,
   "metadata": {},
   "outputs": [],
   "source": [
    "firstSubArray = [0, 0]\n",
    "\n",
    "tests = [ # x_update, expected sum, expected min\n",
    "    (1, 1, 0),\n",
    "    (0, 1, 0),\n",
    "    (2, 2, 0),\n",
    "    (1, 3, 0),\n",
    "    (-10, -9, -9),\n",
    "    (-10, -20, -20),\n",
    "    (10, 0, -20),\n",
    "    (10, 20, -20),\n",
    "]\n",
    "\n",
    "updateArray = [1, 0, 2, 1, -10, -10, 10, 10]\n",
    "\n",
    "queue = MinSumFixedSizeQueue(firstSubArray)\n",
    "assert queue.sum == 0 and queue.min == 0\n",
    "\n",
    "for x_update, expectedSum, expectedMin in tests:\n",
    "    \n",
    "    queue.update(x_update)\n",
    "    \n",
    "    assert queue.sum == expectedSum and queue.min == expectedMin\n"
   ]
  },
  {
   "cell_type": "markdown",
   "metadata": {},
   "source": [
    "# min_sum_subarray function"
   ]
  },
  {
   "cell_type": "markdown",
   "metadata": {},
   "source": [
    "## window = 2"
   ]
  },
  {
   "cell_type": "code",
   "execution_count": 16,
   "metadata": {},
   "outputs": [],
   "source": [
    "window = 2\n",
    "tests = [ # array, expectedMinSum\n",
    "    ([0, 0], 0),\n",
    "    ([0, 0, -1], -1),\n",
    "    ([0, 0, -1, -2], -3),\n",
    "    ([0, 0, -1, -2, 3], -3),\n",
    "    ([0, 0, -1, -2, -100], -102),\n",
    "]\n",
    "\n",
    "for array, expectedMinSum in tests:\n",
    "    assert(min_sum_subarray(array, window) == expectedMinSum)"
   ]
  },
  {
   "cell_type": "markdown",
   "metadata": {},
   "source": [
    "## window = 3"
   ]
  },
  {
   "cell_type": "code",
   "execution_count": 17,
   "metadata": {},
   "outputs": [],
   "source": [
    "window = 3\n",
    "tests = [ # array, expectedMinSum\n",
    "    ([0, 0, 0], 0),\n",
    "    ([0, 0, 0, -1], -1),\n",
    "    ([0, 0, 0, 2, -3], -1),\n",
    "    ([0, -10, 0, 0, -10], -10),\n",
    "    ([0, -10, 0, -10, 0], -20),\n",
    "    ([-10, -10, -10, 0, 0], -30),\n",
    "    ([-10, -10, -10, 0, 0, -50], -50),\n",
    "]\n",
    "\n",
    "for array, expectedMinSum in tests:\n",
    "    assert(min_sum_subarray(array, window) == expectedMinSum)"
   ]
  }
 ],
 "metadata": {
  "kernelspec": {
   "display_name": "Python 3",
   "language": "python",
   "name": "python3"
  },
  "language_info": {
   "codemirror_mode": {
    "name": "ipython",
    "version": 3
   },
   "file_extension": ".py",
   "mimetype": "text/x-python",
   "name": "python",
   "nbconvert_exporter": "python",
   "pygments_lexer": "ipython3",
   "version": "3.7.4"
  }
 },
 "nbformat": 4,
 "nbformat_minor": 4
}
