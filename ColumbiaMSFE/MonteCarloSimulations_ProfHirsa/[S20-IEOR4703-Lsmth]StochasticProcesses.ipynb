{
 "cells": [
  {
   "cell_type": "markdown",
   "metadata": {},
   "source": [
    "# Spring 2020 - IEOR4703 - Prof. Ali Hirsa\n",
    "\n",
    "# Implementation of Famous Stochastic Processes w/ OOP\n",
    "\n",
    "Explanation\n",
    "\n",
    "\n",
    "## Table of contents\n",
    "\n",
    "1. Imports\n",
    "2. Something\n",
    "3. ...\n",
    "\n",
    "## Imports"
   ]
  },
  {
   "cell_type": "code",
   "execution_count": 1,
   "metadata": {},
   "outputs": [],
   "source": [
    "import numpy as np\n",
    "import matplotlib as mpl\n",
    "import matplotlib.pyplot as plt\n",
    "\n",
    "mpl.style.use('seaborn')"
   ]
  },
  {
   "cell_type": "markdown",
   "metadata": {},
   "source": [
    "## General Stochastic Engines\n",
    "\n",
    "### Abstract Engine"
   ]
  },
  {
   "cell_type": "code",
   "execution_count": null,
   "metadata": {},
   "outputs": [],
   "source": [
    "class AbstractEngine:\n",
    "    \n",
    "    def __init__(self, timeAxis):\n",
    "        \n",
    "        self.tAxis = timeAxis\n",
    "        self.timeIter = 0\n",
    "        self.nBM = n_bm_by_step\n",
    "    \n",
    "    \n",
    "    def set_timeAxis(self, timeAxis):\n",
    "        \n",
    "        self.tAxis = timeAxis\n",
    "        self.timeIter = 0\n",
    "    \n",
    "    \n",
    "    def reset(self):\n",
    "        pass\n",
    "    \n",
    "        \n",
    "    def _generateBM(self, N=1):\n",
    "        pass\n",
    "    \n",
    "    \n",
    "    def generateNextTime(self, dBt):\n",
    "        pass\n",
    "    \n",
    "    \n",
    "    def generateFullPath(self, N=1):\n",
    "        \n",
    "        # TODO: option not to store the full path (European, etc)\n",
    "        \n",
    "        T = len( self.tAxis )\n",
    "        \n",
    "        Paths = np.zeros( size=(N,T) )\n",
    "        \n",
    "        dB = self.generateBM(N)\n",
    "        \n",
    "        for i in range(N):\n",
    "            \n",
    "            for t, dBt in enumerate(dB[i]):\n",
    "                \n",
    "                Paths[i, t] = self.generateNextTime(dBt)\n",
    "            \n",
    "            self.reset()\n",
    "            \n",
    "        \n",
    "                \n",
    "        \n",
    "        \n",
    "        "
   ]
  }
 ],
 "metadata": {
  "kernelspec": {
   "display_name": "Python 3",
   "language": "python",
   "name": "python3"
  },
  "language_info": {
   "codemirror_mode": {
    "name": "ipython",
    "version": 3
   },
   "file_extension": ".py",
   "mimetype": "text/x-python",
   "name": "python",
   "nbconvert_exporter": "python",
   "pygments_lexer": "ipython3",
   "version": "3.7.4"
  }
 },
 "nbformat": 4,
 "nbformat_minor": 2
}
